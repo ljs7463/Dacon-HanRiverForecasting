{
 "cells": [
  {
   "cell_type": "markdown",
   "id": "7ccef542",
   "metadata": {},
   "source": [
    "# 모듈 import"
   ]
  },
  {
   "cell_type": "code",
   "execution_count": 1,
   "id": "03953079",
   "metadata": {},
   "outputs": [],
   "source": [
    "import os\n",
    "import sys\n",
    "from pathlib import Path\n",
    "import pandas as pd\n",
    "import numpy as np\n",
    "from glob import glob\n",
    "from scipy import interpolate\n",
    "import warnings\n",
    "import datetime\n",
    "import seaborn as sns\n",
    "import matplotlib.pyplot as plt\n",
    "from statsmodels.tsa.seasonal import seasonal_decompose \n",
    "from sklearn.preprocessing import StandardScaler\n",
    "from sklearn import neighbors\n",
    "from sklearn.metrics import mean_squared_error \n",
    "from math import sqrt\n",
    "from statsmodels.tsa.seasonal import seasonal_decompose \n",
    "warnings.filterwarnings(\"ignore\")\n",
    "sys.path.append(str(Path(os.getcwd())))"
   ]
  },
  {
   "cell_type": "markdown",
   "id": "2938b97f",
   "metadata": {},
   "source": [
    "# Path 설정"
   ]
  },
  {
   "cell_type": "code",
   "execution_count": 2,
   "id": "96ec48b9",
   "metadata": {},
   "outputs": [],
   "source": [
    "base_path = Path(os.getcwd()).parent.parent\n",
    "sys.path.append(base_path)"
   ]
  },
  {
   "cell_type": "code",
   "execution_count": 3,
   "id": "572c1184",
   "metadata": {},
   "outputs": [],
   "source": [
    "water_lst = glob(f'{base_path}/datasource/competition_data/water_data/*.csv')\n",
    "rain_lst = glob(f'{base_path}/datasource/competition_data/rf_data/*.csv')\n",
    "\n",
    "water_df = pd.DataFrame()\n",
    "rain_df = pd.DataFrame()\n",
    "for w in water_lst:\n",
    "    water_df = water_df.append(pd.read_csv(w))\n",
    "for r in rain_lst:\n",
    "    rain_df = rain_df.append(pd.read_csv(r))"
   ]
  },
  {
   "cell_type": "markdown",
   "id": "a385ea88",
   "metadata": {},
   "source": [
    "# 타입 수정 및 데이터 추가 병합(water + rain)"
   ]
  },
  {
   "cell_type": "code",
   "execution_count": 4,
   "id": "27e4e852",
   "metadata": {},
   "outputs": [],
   "source": [
    "# datetime\n",
    "water_df['ymdhm'] = pd.to_datetime(water_df['ymdhm'], format = '%Y-%m-%d %H:%M:%S' )\n",
    "rain_df['ymdhm'] = pd.to_datetime(water_df['ymdhm'], format = '%Y-%m-%d %H:%M:%S' )\n",
    "\n",
    "# merge to dataframe\n",
    "merge_df = pd.merge(water_df, rain_df, how = 'left', on = 'ymdhm')"
   ]
  },
  {
   "cell_type": "markdown",
   "id": "f6150151",
   "metadata": {},
   "source": [
    "# 컬럼 수정"
   ]
  },
  {
   "cell_type": "code",
   "execution_count": 5,
   "id": "b5e725d6",
   "metadata": {},
   "outputs": [],
   "source": [
    "new_cols ={'ymdhm':\"date\",\n",
    "           'swl':'팔당댐 현재수위',\n",
    "           'inf':'팔당댐 유입량',\n",
    "           'sfw':'팔당댐 저수량',\n",
    "           'ecpc':'팔당댐 공용량',\n",
    "           'tototf':'총 방류량',\n",
    "           'tide_level':\"강화대교 조위\",\n",
    "           'fw_1018662':'청담대교 유량',\n",
    "           'fw_1018680':'잠수교 유량',\n",
    "           'fw_1018683':'한강대교 유량',\n",
    "           'fw_1019630':'행주대교 유량',\n",
    "           'wl_1018662':'청담대교 수위',    \n",
    "           'wl_1018680':'잠수교 수위',\n",
    "           'wl_1018683':\"한강대교 수위\",\n",
    "           'wl_1019630':\"행주대교 수위\",\n",
    "           'rf_10184100':'대곡교 강수량',\n",
    "           'rf_10184110':'진관교 강수량',\n",
    "           'rf_10184140':'송정동 강수량'}\n",
    "merge_df =merge_df.rename(columns = new_cols)"
   ]
  },
  {
   "cell_type": "markdown",
   "id": "5b1d8e97",
   "metadata": {},
   "source": [
    "# 데이터 분리"
   ]
  },
  {
   "cell_type": "code",
   "execution_count": 6,
   "id": "f04d3cb5",
   "metadata": {},
   "outputs": [],
   "source": [
    "# test set: 2022 06 01 ~\n",
    "train = merge_df[-((merge_df['date'].dt.year==2022) & (merge_df['date'].dt.month>=6))].reset_index(drop =True)\n",
    "test = merge_df[((merge_df['date'].dt.year==2022) & (merge_df['date'].dt.month>=6))].reset_index(drop =True)"
   ]
  },
  {
   "cell_type": "markdown",
   "id": "587ed385",
   "metadata": {},
   "source": [
    "# 기본 전처리"
   ]
  },
  {
   "cell_type": "code",
   "execution_count": 7,
   "id": "f768ca5b",
   "metadata": {},
   "outputs": [],
   "source": [
    "# 0이하의 값 일괄 nan값으로 변경\n",
    "for i in list(train.columns[1:6]):\n",
    "    error_lst = list(train[train[i]<=0][i].index)\n",
    "    train.loc[error_lst, i] = np.nan"
   ]
  },
  {
   "cell_type": "markdown",
   "id": "d94f3bd2",
   "metadata": {},
   "source": [
    "# 메서드 Interpolation을 활용한 결측값 보간"
   ]
  },
  {
   "cell_type": "code",
   "execution_count": 8,
   "id": "3177ad32",
   "metadata": {},
   "outputs": [],
   "source": [
    "train = train.set_index('date')\n",
    "train = train.interpolate(method = 'time')\n",
    "\n",
    "test = test.set_index('date')\n",
    "test = test.interpolate(method = 'time') \n",
    "\n",
    "train =train.reset_index()\n",
    "test = test.reset_index()"
   ]
  }
 ],
 "metadata": {
  "kernelspec": {
   "display_name": "Python 3",
   "language": "python",
   "name": "python3"
  },
  "language_info": {
   "codemirror_mode": {
    "name": "ipython",
    "version": 3
   },
   "file_extension": ".py",
   "mimetype": "text/x-python",
   "name": "python",
   "nbconvert_exporter": "python",
   "pygments_lexer": "ipython3",
   "version": "3.8.8"
  },
  "toc": {
   "base_numbering": 1,
   "nav_menu": {},
   "number_sections": true,
   "sideBar": true,
   "skip_h1_title": false,
   "title_cell": "Table of Contents",
   "title_sidebar": "Contents",
   "toc_cell": false,
   "toc_position": {},
   "toc_section_display": true,
   "toc_window_display": false
  }
 },
 "nbformat": 4,
 "nbformat_minor": 5
}
