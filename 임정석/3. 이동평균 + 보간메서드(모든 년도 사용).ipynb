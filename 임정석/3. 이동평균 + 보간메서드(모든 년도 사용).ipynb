{
 "cells": [
  {
   "cell_type": "markdown",
   "id": "b26e107e",
   "metadata": {},
   "source": [
    "# 모듈 import"
   ]
  },
  {
   "cell_type": "code",
   "execution_count": 19,
   "id": "10bc51d4",
   "metadata": {},
   "outputs": [],
   "source": [
    "import os\n",
    "import sys\n",
    "from pathlib import Path\n",
    "import pandas as pd\n",
    "import numpy as np\n",
    "from glob import glob\n",
    "from scipy import interpolate\n",
    "import warnings\n",
    "import datetime\n",
    "import seaborn as sns\n",
    "import matplotlib.pyplot as plt\n",
    "from statsmodels.tsa.seasonal import seasonal_decompose \n",
    "from sklearn.preprocessing import StandardScaler\n",
    "from sklearn import neighbors\n",
    "from sklearn.metrics import mean_squared_error \n",
    "from math import sqrt\n",
    "from statsmodels.tsa.seasonal import seasonal_decompose \n",
    "warnings.filterwarnings(\"ignore\")\n",
    "sys.path.append(str(Path(os.getcwd())))"
   ]
  },
  {
   "cell_type": "markdown",
   "id": "1d01780c",
   "metadata": {},
   "source": [
    "# Path 설정"
   ]
  },
  {
   "cell_type": "code",
   "execution_count": 20,
   "id": "8a1f964b",
   "metadata": {},
   "outputs": [],
   "source": [
    "base_path = Path(os.getcwd()).parent.parent\n",
    "sys.path.append(base_path)"
   ]
  },
  {
   "cell_type": "code",
   "execution_count": 21,
   "id": "1bb7ef70",
   "metadata": {},
   "outputs": [],
   "source": [
    "water_lst = glob(f'{base_path}/datasource/competition_data/water_data/*.csv')\n",
    "rain_lst = glob(f'{base_path}/datasource/competition_data/rf_data/*.csv')\n",
    "\n",
    "water_df = pd.DataFrame()\n",
    "rain_df = pd.DataFrame()\n",
    "for w in water_lst:\n",
    "    water_df = water_df.append(pd.read_csv(w))\n",
    "for r in rain_lst:\n",
    "    rain_df = rain_df.append(pd.read_csv(r))"
   ]
  },
  {
   "cell_type": "markdown",
   "id": "be4a2eab",
   "metadata": {},
   "source": [
    "# 타입 수정 및 데이터 추가 병합(water + rain)"
   ]
  },
  {
   "cell_type": "code",
   "execution_count": 22,
   "id": "c6197d2a",
   "metadata": {},
   "outputs": [],
   "source": [
    "# datetime\n",
    "water_df['ymdhm'] = pd.to_datetime(water_df['ymdhm'], format = '%Y-%m-%d %H:%M:%S' )\n",
    "rain_df['ymdhm'] = pd.to_datetime(water_df['ymdhm'], format = '%Y-%m-%d %H:%M:%S' )\n",
    "\n",
    "# merge to dataframe\n",
    "merge_df = pd.merge(water_df, rain_df, how = 'left', on = 'ymdhm')"
   ]
  },
  {
   "cell_type": "markdown",
   "id": "70a36549",
   "metadata": {},
   "source": [
    "# 컬럼 수정"
   ]
  },
  {
   "cell_type": "code",
   "execution_count": 23,
   "id": "9d3652f3",
   "metadata": {},
   "outputs": [],
   "source": [
    "new_cols ={'ymdhm':\"date\",\n",
    "           'swl':'팔당댐 현재수위',\n",
    "           'inf':'팔당댐 유입량',\n",
    "           'sfw':'팔당댐 저수량',\n",
    "           'ecpc':'팔당댐 공용량',\n",
    "           'tototf':'총 방류량',\n",
    "           'tide_level':\"강화대교 조위\",\n",
    "           'fw_1018662':'청담대교 유량',\n",
    "           'fw_1018680':'잠수교 유량',\n",
    "           'fw_1018683':'한강대교 유량',\n",
    "           'fw_1019630':'행주대교 유량',\n",
    "           'wl_1018662':'청담대교 수위',    \n",
    "           'wl_1018680':'잠수교 수위',\n",
    "           'wl_1018683':\"한강대교 수위\",\n",
    "           'wl_1019630':\"행주대교 수위\",\n",
    "           'rf_10184100':'대곡교 강수량',\n",
    "           'rf_10184110':'진관교 강수량',\n",
    "           'rf_10184140':'송정동 강수량'}\n",
    "merge_df =merge_df.rename(columns = new_cols)"
   ]
  },
  {
   "cell_type": "markdown",
   "id": "81a16265",
   "metadata": {},
   "source": [
    "# 데이터분리"
   ]
  },
  {
   "cell_type": "code",
   "execution_count": 24,
   "id": "7317930e",
   "metadata": {},
   "outputs": [],
   "source": [
    "# test set: 2022 06 01 ~\n",
    "train = merge_df[-((merge_df['date'].dt.year==2022) & (merge_df['date'].dt.month>=6))].reset_index(drop =True)\n",
    "test = merge_df[((merge_df['date'].dt.year==2022) & (merge_df['date'].dt.month>=6))].reset_index(drop =True)"
   ]
  },
  {
   "cell_type": "markdown",
   "id": "ccb3ef08",
   "metadata": {},
   "source": [
    "# 기본전처리"
   ]
  },
  {
   "cell_type": "code",
   "execution_count": 25,
   "id": "584cfeb2",
   "metadata": {},
   "outputs": [],
   "source": [
    "# 0이하의 값 일괄 nan값으로 변경\n",
    "\n",
    "# 학습 및 검증셋\n",
    "for i in list(train.columns[1:6]):\n",
    "    error_lst = list(train[train[i]<=0][i].index)\n",
    "    train.loc[error_lst, i] = np.nan\n",
    "    \n",
    "# 최종 예측을 위한 테스트셋    \n",
    "for i in list(test.columns[1:6]):\n",
    "    error_lst2 = list(test[test[i]<=0][i].index)\n",
    "    test.loc[error_lst2, i] = np.nan"
   ]
  },
  {
   "cell_type": "markdown",
   "id": "746ab5d4",
   "metadata": {},
   "source": [
    "# Method 3. Moving Average + interpolate(2012~2022)"
   ]
  },
  {
   "cell_type": "code",
   "execution_count": 26,
   "id": "cc0533e4",
   "metadata": {},
   "outputs": [],
   "source": [
    "# 2012년 \n",
    "df_2012 = train[(train['date'].dt.year==2012)]\n",
    "df_2012 = df_2012.fillna(df_2012.rolling(3, min_periods = 1, axis = 0,center = True).mean())\n",
    "df_2012 = df_2012.set_index('date').interpolate(method = 'time').reset_index()# 강화대교 조위만 해당\n",
    "# 2013년 \n",
    "df_2013 = train[(train['date'].dt.year==2013)].reset_index(drop = True)\n",
    "df_2013 = df_2013.fillna(df_2013.rolling(3, min_periods = 1, axis = 0,center = True).mean())\n",
    "df_2013 = df_2013.fillna(df_2013.rolling(6, min_periods = 1, axis = 0,center = True).mean())\n",
    "# 2014년\n",
    "df_2014 = train[(train['date'].dt.year==2014)].reset_index(drop = True)\n",
    "df_2014 = df_2014.fillna(df_2014.rolling(3, min_periods = 1, axis = 0,center = True).mean())\n",
    "df_2014 = df_2014.fillna(df_2014.rolling(6, min_periods = 1, axis = 0,center = True).mean())\n",
    "# 2015년\n",
    "df_2015 = train[(train['date'].dt.year==2015)].reset_index(drop = True)\n",
    "df_2015 = df_2015.fillna(df_2015.rolling(3, min_periods = 1, axis = 0,center = True).mean())\n",
    "df_2015 = df_2015.fillna(df_2015.rolling(6, min_periods = 1, axis = 0,center = True).mean())\n",
    "df_2015 = df_2015.fillna(df_2015.rolling(8, min_periods = 1, axis = 0,center = True).mean())\n",
    "df_2015 = df_2015.fillna(df_2015.rolling(10, min_periods = 1, axis = 0,center = True).mean())\n",
    "df_2015 = df_2015.set_index('date').interpolate(method = 'time').reset_index()\n",
    "# 2016년\n",
    "df_2016 = train[(train['date'].dt.year==2016)].reset_index(drop = True)\n",
    "df_2016 = df_2016.fillna(df_2016.rolling(3, min_periods = 1, axis = 0,center = True).mean())\n",
    "df_2016 = df_2016.fillna(df_2016.rolling(6, min_periods = 1, axis = 0,center = True).mean())\n",
    "df_2016 = df_2016.fillna(df_2016.rolling(8, min_periods = 1, axis = 0,center = True).mean())\n",
    "df_2016 = df_2016.set_index('date').interpolate(method = 'time').reset_index()\n",
    "# 2017년\n",
    "df_2017 = train[(train['date'].dt.year==2017)].reset_index(drop = True)\n",
    "df_2017 = df_2017.fillna(df_2017.rolling(3, min_periods = 1, axis = 0,center = True).mean())\n",
    "df_2017 = df_2017.fillna(df_2017.rolling(6, min_periods = 1, axis = 0,center = True).mean())\n",
    "df_2017 = df_2017.fillna(df_2017.rolling(8, min_periods = 1, axis = 0,center = True).mean())\n",
    "df_2017 = df_2017.set_index('date').interpolate(method = 'time').reset_index()\n",
    "# 2018년\n",
    "df_2018 = train[(train['date'].dt.year==2018)].reset_index(drop = True)\n",
    "df_2018 = df_2018.fillna(df_2018.rolling(3, min_periods = 1, axis = 0,center = True).mean())\n",
    "df_2018 = df_2018.fillna(df_2018.rolling(6, min_periods = 1, axis = 0,center = True).mean())\n",
    "df_2018 = df_2018.fillna(df_2018.rolling(8, min_periods = 1, axis = 0,center = True).mean())\n",
    "df_2018 = df_2018.set_index('date').interpolate(method = 'time').reset_index()\n",
    "# 2019년\n",
    "df_2019 = train[(train['date'].dt.year==2019)].reset_index(drop = True)\n",
    "df_2019 = df_2019.fillna(df_2019.rolling(3, min_periods = 1, axis = 0,center = True).mean())\n",
    "df_2019 = df_2019.fillna(df_2019.rolling(6, min_periods = 1, axis = 0,center = True).mean())\n",
    "df_2019 = df_2019.fillna(df_2019.rolling(8, min_periods = 1, axis = 0,center = True).mean())\n",
    "df_2019 = df_2019.set_index('date').interpolate(method = 'time').reset_index()\n",
    "# 2020년\n",
    "df_2020 = train[(train['date'].dt.year==2020)].reset_index(drop = True)\n",
    "df_2020 = df_2020.fillna(df_2020.rolling(3, min_periods = 1, axis = 0,center = True).mean())\n",
    "df_2020 = df_2020.fillna(df_2020.rolling(6, min_periods = 1, axis = 0,center = True).mean())\n",
    "df_2020 = df_2020.fillna(df_2020.rolling(8, min_periods = 1, axis = 0,center = True).mean())\n",
    "df_2020 = df_2020.set_index('date').interpolate(method = 'time').reset_index()\n",
    "# 2021년\n",
    "df_2021 = train[(train['date'].dt.year==2021)].reset_index(drop = True)\n",
    "df_2021 = df_2021.fillna(df_2021.rolling(3, min_periods = 1, axis = 0,center = True).mean())\n",
    "df_2021 = df_2021.fillna(df_2021.rolling(6, min_periods = 1, axis = 0,center = True).mean())\n",
    "df_2021 = df_2021.fillna(df_2021.rolling(8, min_periods = 1, axis = 0,center = True).mean())\n",
    "df_2021 = df_2021.set_index('date').interpolate(method = 'time').reset_index()\n",
    "# 2022년\n",
    "df_2022 = train[(train['date'].dt.year==2022)].reset_index(drop = True)\n",
    "df_2022 = df_2022.fillna(df_2022.rolling(3, min_periods = 1, axis = 0,center = True).mean())\n",
    "df_2022 = df_2022.fillna(df_2022.rolling(6, min_periods = 1, axis = 0,center = True).mean())\n",
    "df_2022 = df_2022.fillna(df_2022.rolling(8, min_periods = 1, axis = 0,center = True).mean())\n",
    "df_2022 = df_2022.set_index('date').interpolate(method = 'time').reset_index()\n",
    "\n",
    "\n",
    "\n",
    "# 테스트 셋 \n",
    "test = test.drop(columns = ['잠수교 유량','강화대교 조위'])\n",
    "test = test.fillna(test.rolling(3, min_periods = 1, axis = 0, center = True).mean())\n",
    "test = test.fillna(test.rolling(6, min_periods = 1, axis = 0, center = True).mean())\n",
    "test = test.fillna(test.rolling(9, min_periods = 1, axis = 0, center = True).mean())\n",
    "test = test.set_index('date').interpolate(method = 'time').reset_index()"
   ]
  },
  {
   "cell_type": "code",
   "execution_count": 28,
   "id": "0f357b6b",
   "metadata": {},
   "outputs": [],
   "source": [
    "train_df = pd.concat([df_2012,df_2013],axis = 0).reset_index(drop = True)\n",
    "train_df = pd.concat([train_df,df_2014],axis = 0).reset_index(drop = True)\n",
    "train_df = pd.concat([train_df,df_2015],axis = 0).reset_index(drop = True)\n",
    "train_df = pd.concat([train_df,df_2016],axis = 0).reset_index(drop = True)\n",
    "train_df = pd.concat([train_df,df_2017],axis = 0).reset_index(drop = True)\n",
    "train_df = pd.concat([train_df,df_2018],axis = 0).reset_index(drop = True)\n",
    "train_df = pd.concat([train_df,df_2019],axis = 0).reset_index(drop = True)\n",
    "train_df = pd.concat([train_df,df_2020],axis = 0).reset_index(drop = True)\n",
    "train_df = pd.concat([train_df,df_2021],axis = 0).reset_index(drop = True)\n",
    "train_df = pd.concat([train_df,df_2022],axis = 0).reset_index(drop = True)"
   ]
  },
  {
   "cell_type": "code",
   "execution_count": 30,
   "id": "360372a0",
   "metadata": {},
   "outputs": [],
   "source": [
    "train_df =train_df.drop(columns = ['잠수교 유량','강화대교 조위'])"
   ]
  },
  {
   "cell_type": "markdown",
   "id": "5a20d2c8",
   "metadata": {},
   "source": [
    "# 데이터 split"
   ]
  },
  {
   "cell_type": "code",
   "execution_count": 32,
   "id": "c19b18ee",
   "metadata": {},
   "outputs": [],
   "source": [
    "x_data = train_df[['팔당댐 현재수위', '팔당댐 유입량', '팔당댐 저수량', '팔당댐 공용량', '총 방류량', '청담대교 유량','한강대교 유량', '행주대교 유량', '대곡교 강수량','진관교 강수량','송정동 강수량']]\n",
    "y_data =train_df[['청담대교 수위','잠수교 수위', '한강대교 수위', '행주대교 수위']]\n",
    "x_train = x_data.iloc[:-50000]\n",
    "x_valid = x_data.iloc[-50000:]\n",
    "y_train = y_data.iloc[:-50000]\n",
    "y_valid = y_data.iloc[-50000:]\n",
    "\n",
    "# 최종 예측을 위한 테스트셋\n",
    "x_test = test[['팔당댐 현재수위', '팔당댐 유입량', '팔당댐 저수량', '팔당댐 공용량', '총 방류량', '청담대교 유량','한강대교 유량', '행주대교 유량', '대곡교 강수량','진관교 강수량','송정동 강수량']]\n",
    "y_test = test[['청담대교 수위','잠수교 수위', '한강대교 수위', '행주대교 수위']]"
   ]
  },
  {
   "cell_type": "code",
   "execution_count": 33,
   "id": "9cd3c888",
   "metadata": {},
   "outputs": [
    {
     "data": {
      "text/plain": [
       "((219424, 11), (50000, 11), (219424, 4), (50000, 4))"
      ]
     },
     "execution_count": 33,
     "metadata": {},
     "output_type": "execute_result"
    }
   ],
   "source": [
    "x_train.shape, x_valid.shape, y_train.shape, y_valid.shape"
   ]
  },
  {
   "cell_type": "code",
   "execution_count": 34,
   "id": "364acad5",
   "metadata": {},
   "outputs": [
    {
     "data": {
      "text/plain": [
       "((6912, 11), (6912, 4))"
      ]
     },
     "execution_count": 34,
     "metadata": {},
     "output_type": "execute_result"
    }
   ],
   "source": [
    "x_test.shape, y_test.shape"
   ]
  },
  {
   "cell_type": "markdown",
   "id": "b40b9524",
   "metadata": {},
   "source": [
    "# Scalling"
   ]
  },
  {
   "cell_type": "code",
   "execution_count": 35,
   "id": "2b33c8c0",
   "metadata": {},
   "outputs": [],
   "source": [
    "from sklearn.preprocessing import StandardScaler\n",
    "scaler = StandardScaler()\n",
    "x_train_scaler = pd.DataFrame(scaler.fit_transform(x_train), columns = x_train.columns)\n",
    "x_valid_scaler = pd.DataFrame(scaler.transform(x_valid), columns = x_valid.columns)\n",
    "x_test_scaler = pd.DataFrame(scaler.transform(x_test), columns = x_test.columns)"
   ]
  },
  {
   "cell_type": "markdown",
   "id": "28da40f8",
   "metadata": {},
   "source": [
    "이후 간단한 설명\n",
    "1. 바로 위의 x_train,y_train을 학습하셔서 x_valid를 통해서 y예측값을 뽑습니다.\n",
    "2. y의 예측값과 y_valid값의 차이를 RMSE를 통해 확인합니다. --> 성능확인( 검증셋 y_test를 통해 성능검증)\n",
    "3. 성능이 잘 나왔다면 해당 모델을 통해 x_test_scaler데이터를 넣어서 예측값 y_pred를 뽑은후 제출"
   ]
  }
 ],
 "metadata": {
  "kernelspec": {
   "display_name": "jupyter",
   "language": "python",
   "name": "jupyter"
  },
  "language_info": {
   "codemirror_mode": {
    "name": "ipython",
    "version": 3
   },
   "file_extension": ".py",
   "mimetype": "text/x-python",
   "name": "python",
   "nbconvert_exporter": "python",
   "pygments_lexer": "ipython3",
   "version": "3.10.4"
  },
  "toc": {
   "base_numbering": 1,
   "nav_menu": {},
   "number_sections": true,
   "sideBar": true,
   "skip_h1_title": false,
   "title_cell": "Table of Contents",
   "title_sidebar": "Contents",
   "toc_cell": false,
   "toc_position": {},
   "toc_section_display": true,
   "toc_window_display": false
  }
 },
 "nbformat": 4,
 "nbformat_minor": 5
}
