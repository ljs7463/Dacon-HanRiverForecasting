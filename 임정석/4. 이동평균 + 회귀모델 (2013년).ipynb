{
 "cells": [
  {
   "cell_type": "markdown",
   "id": "bddd3fa6",
   "metadata": {},
   "source": [
    "# 모듈 import"
   ]
  },
  {
   "cell_type": "code",
   "execution_count": 1,
   "id": "464fc60f",
   "metadata": {},
   "outputs": [],
   "source": [
    "import os\n",
    "import sys\n",
    "from pathlib import Path\n",
    "import pandas as pd\n",
    "import numpy as np\n",
    "from glob import glob\n",
    "from scipy import interpolate\n",
    "import warnings\n",
    "import datetime\n",
    "import seaborn as sns\n",
    "import matplotlib.pyplot as plt\n",
    "from statsmodels.tsa.seasonal import seasonal_decompose \n",
    "from sklearn.preprocessing import StandardScaler\n",
    "from sklearn import neighbors\n",
    "from sklearn.metrics import mean_squared_error \n",
    "from math import sqrt\n",
    "from statsmodels.tsa.seasonal import seasonal_decompose \n",
    "from sklearn.metrics import mean_squared_error \n",
    "from math import sqrt\n",
    "from sklearn.linear_model import Ridge\n",
    "from sklearn.model_selection import KFold\n",
    "from sklearn.ensemble import RandomForestRegressor\n",
    "from sklearn.model_selection import GridSearchCV\n",
    "warnings.filterwarnings(\"ignore\")\n",
    "sys.path.append(str(Path(os.getcwd())))"
   ]
  },
  {
   "cell_type": "markdown",
   "id": "a722f6b8",
   "metadata": {},
   "source": [
    "# Path 설정"
   ]
  },
  {
   "cell_type": "code",
   "execution_count": 2,
   "id": "665a7ac0",
   "metadata": {},
   "outputs": [],
   "source": [
    "base_path = Path(os.getcwd()).parent.parent\n",
    "sys.path.append(base_path)"
   ]
  },
  {
   "cell_type": "code",
   "execution_count": 3,
   "id": "05ad1e53",
   "metadata": {},
   "outputs": [],
   "source": [
    "water_lst = glob(f'{base_path}/datasource/competition_data/water_data/*.csv')\n",
    "rain_lst = glob(f'{base_path}/datasource/competition_data/rf_data/*.csv')\n",
    "\n",
    "water_df = pd.DataFrame()\n",
    "rain_df = pd.DataFrame()\n",
    "for w in water_lst:\n",
    "    water_df = water_df.append(pd.read_csv(w))\n",
    "for r in rain_lst:\n",
    "    rain_df = rain_df.append(pd.read_csv(r))"
   ]
  },
  {
   "cell_type": "markdown",
   "id": "cec7aae7",
   "metadata": {},
   "source": [
    "# 폰트설정"
   ]
  },
  {
   "cell_type": "code",
   "execution_count": 4,
   "id": "47e82938",
   "metadata": {},
   "outputs": [],
   "source": [
    "plt.rc('font', family = 'Malgun Gothic')"
   ]
  },
  {
   "cell_type": "markdown",
   "id": "05639baf",
   "metadata": {},
   "source": [
    "# 타입 수정 및 데이터 추가 병합(water+rain)"
   ]
  },
  {
   "cell_type": "code",
   "execution_count": 5,
   "id": "d949b730",
   "metadata": {},
   "outputs": [],
   "source": [
    "# datetime\n",
    "water_df['ymdhm'] = pd.to_datetime(water_df['ymdhm'], format = '%Y-%m-%d %H:%M:%S' )\n",
    "rain_df['ymdhm'] = pd.to_datetime(water_df['ymdhm'], format = '%Y-%m-%d %H:%M:%S' )\n",
    "\n",
    "# merge to dataframe\n",
    "merge_df = pd.merge(water_df, rain_df, how = 'left', on = 'ymdhm')"
   ]
  },
  {
   "cell_type": "markdown",
   "id": "e5a5c730",
   "metadata": {},
   "source": [
    "# 컬럼 수정"
   ]
  },
  {
   "cell_type": "code",
   "execution_count": 6,
   "id": "d467a331",
   "metadata": {},
   "outputs": [],
   "source": [
    "new_cols ={'ymdhm':\"date\",\n",
    "           'swl':'팔당댐 현재수위',\n",
    "           'inf':'팔당댐 유입량',\n",
    "           'sfw':'팔당댐 저수량',\n",
    "           'ecpc':'팔당댐 공용량',\n",
    "           'tototf':'총 방류량',\n",
    "           'tide_level':\"강화대교 조위\",\n",
    "           'fw_1018662':'청담대교 유량',\n",
    "           'fw_1018680':'잠수교 유량',\n",
    "           'fw_1018683':'한강대교 유량',\n",
    "           'fw_1019630':'행주대교 유량',\n",
    "           'wl_1018662':'청담대교 수위',    \n",
    "           'wl_1018680':'잠수교 수위',\n",
    "           'wl_1018683':\"한강대교 수위\",\n",
    "           'wl_1019630':\"행주대교 수위\",\n",
    "           'rf_10184100':'대곡교 강수량',\n",
    "           'rf_10184110':'진관교 강수량',\n",
    "           'rf_10184140':'송정동 강수량'}\n",
    "merge_df =merge_df.rename(columns = new_cols)"
   ]
  },
  {
   "cell_type": "markdown",
   "id": "0b6863eb",
   "metadata": {},
   "source": [
    "# 데이터 분리"
   ]
  },
  {
   "cell_type": "code",
   "execution_count": 7,
   "id": "6d667e43",
   "metadata": {},
   "outputs": [],
   "source": [
    "# test set: 2022 06 01 ~\n",
    "train = merge_df[-((merge_df['date'].dt.year==2022) & (merge_df['date'].dt.month>=6))].reset_index(drop =True)\n",
    "test = merge_df[((merge_df['date'].dt.year==2022) & (merge_df['date'].dt.month>=6))].reset_index(drop =True)"
   ]
  },
  {
   "cell_type": "markdown",
   "id": "09094533",
   "metadata": {},
   "source": [
    "# 기본 전처리"
   ]
  },
  {
   "cell_type": "code",
   "execution_count": 8,
   "id": "a8ddadd2",
   "metadata": {},
   "outputs": [],
   "source": [
    "# 0이하의 값 일괄 nan값으로 변경\n",
    "\n",
    "# 학습 및 검증셋\n",
    "for i in list(train.columns[1:6]):\n",
    "    error_lst = list(train[train[i]<=0][i].index)\n",
    "    train.loc[error_lst, i] = np.nan\n",
    "    \n",
    "# 최종 예측을 위한 테스트셋    \n",
    "for i in list(test.columns[1:6]):\n",
    "    error_lst2 = list(test[test[i]<=0][i].index)\n",
    "    test.loc[error_lst2, i] = np.nan"
   ]
  },
  {
   "cell_type": "markdown",
   "id": "450a9cbb",
   "metadata": {},
   "source": [
    "# Moving Average + Regression"
   ]
  },
  {
   "cell_type": "code",
   "execution_count": 9,
   "id": "c49ed111",
   "metadata": {},
   "outputs": [
    {
     "data": {
      "text/plain": [
       "date          0\n",
       "팔당댐 현재수위      0\n",
       "팔당댐 유입량     214\n",
       "팔당댐 저수량       0\n",
       "팔당댐 공용량       0\n",
       "총 방류량         0\n",
       "청담대교 수위       0\n",
       "청담대교 유량       0\n",
       "잠수교 수위        0\n",
       "한강대교 수위       0\n",
       "한강대교 유량       0\n",
       "행주대교 수위       0\n",
       "행주대교 유량       0\n",
       "대곡교 강수량       0\n",
       "진관교 강수량       0\n",
       "송정동 강수량       0\n",
       "dtype: int64"
      ]
     },
     "execution_count": 9,
     "metadata": {},
     "output_type": "execute_result"
    }
   ],
   "source": [
    "# 2013년 데이터만 사용 \n",
    "df_2013 = train[(train['date'].dt.year==2013)].reset_index(drop = True)\n",
    "df_2013 = df_2013.fillna(df_2013.rolling(3, min_periods = 1, axis = 0,center = True).mean())\n",
    "# df_2013 = df_2013.fillna(df_2013.rolling(6, min_periods = 1, axis = 0,center = True).mean())\n",
    "\n",
    "# 잠수교 유량데이터는 측정 센서가 없기때문에 전체 Null & 강화대교 조위 역시 필요없다고 판단\n",
    "train_df =df_2013.drop(columns = ['잠수교 유량','강화대교 조위'])\n",
    "train_df.isna().sum()"
   ]
  },
  {
   "cell_type": "code",
   "execution_count": 10,
   "id": "da052e56",
   "metadata": {},
   "outputs": [],
   "source": [
    "# scaler = StandardScaler()\n",
    "# concat_df = train_df['팔당댐 유입량']\n",
    "# train_df = pd.DataFrame(scaler.fit_transform(train_df[['팔당댐 현재수위','팔당댐 저수량','총 방류량']]),columns = ['팔당댐 현재수위','팔당댐 저수량','총 방류량'])\n",
    "# train_df = pd.concat([train_df,concat_df],axis = 1)\n",
    "# train_df"
   ]
  },
  {
   "cell_type": "code",
   "execution_count": 11,
   "id": "f9301df9",
   "metadata": {},
   "outputs": [
    {
     "data": {
      "text/html": [
       "<div>\n",
       "<style scoped>\n",
       "    .dataframe tbody tr th:only-of-type {\n",
       "        vertical-align: middle;\n",
       "    }\n",
       "\n",
       "    .dataframe tbody tr th {\n",
       "        vertical-align: top;\n",
       "    }\n",
       "\n",
       "    .dataframe thead th {\n",
       "        text-align: right;\n",
       "    }\n",
       "</style>\n",
       "<table border=\"1\" class=\"dataframe\">\n",
       "  <thead>\n",
       "    <tr style=\"text-align: right;\">\n",
       "      <th></th>\n",
       "      <th>팔당댐 현재수위</th>\n",
       "      <th>팔당댐 유입량</th>\n",
       "      <th>팔당댐 저수량</th>\n",
       "      <th>총 방류량</th>\n",
       "    </tr>\n",
       "  </thead>\n",
       "  <tbody>\n",
       "    <tr>\n",
       "      <th>0</th>\n",
       "      <td>1.249199</td>\n",
       "      <td>-0.520569</td>\n",
       "      <td>1.264104</td>\n",
       "      <td>-0.513550</td>\n",
       "    </tr>\n",
       "    <tr>\n",
       "      <th>1</th>\n",
       "      <td>1.241197</td>\n",
       "      <td>-0.505047</td>\n",
       "      <td>1.257363</td>\n",
       "      <td>-0.498022</td>\n",
       "    </tr>\n",
       "    <tr>\n",
       "      <th>2</th>\n",
       "      <td>1.241197</td>\n",
       "      <td>-0.505047</td>\n",
       "      <td>1.257363</td>\n",
       "      <td>-0.498022</td>\n",
       "    </tr>\n",
       "    <tr>\n",
       "      <th>3</th>\n",
       "      <td>1.233194</td>\n",
       "      <td>-0.505047</td>\n",
       "      <td>1.248375</td>\n",
       "      <td>-0.498022</td>\n",
       "    </tr>\n",
       "    <tr>\n",
       "      <th>4</th>\n",
       "      <td>1.153172</td>\n",
       "      <td>-0.573060</td>\n",
       "      <td>1.165236</td>\n",
       "      <td>-0.497954</td>\n",
       "    </tr>\n",
       "    <tr>\n",
       "      <th>...</th>\n",
       "      <td>...</td>\n",
       "      <td>...</td>\n",
       "      <td>...</td>\n",
       "      <td>...</td>\n",
       "    </tr>\n",
       "    <tr>\n",
       "      <th>26491</th>\n",
       "      <td>0.777068</td>\n",
       "      <td>-0.506340</td>\n",
       "      <td>0.796731</td>\n",
       "      <td>-0.499316</td>\n",
       "    </tr>\n",
       "    <tr>\n",
       "      <th>26492</th>\n",
       "      <td>0.721052</td>\n",
       "      <td>-0.575034</td>\n",
       "      <td>0.729322</td>\n",
       "      <td>-0.499929</td>\n",
       "    </tr>\n",
       "    <tr>\n",
       "      <th>26493</th>\n",
       "      <td>0.681041</td>\n",
       "      <td>-0.575306</td>\n",
       "      <td>0.686629</td>\n",
       "      <td>-0.500202</td>\n",
       "    </tr>\n",
       "    <tr>\n",
       "      <th>26494</th>\n",
       "      <td>0.681041</td>\n",
       "      <td>-0.575579</td>\n",
       "      <td>0.686629</td>\n",
       "      <td>-0.500474</td>\n",
       "    </tr>\n",
       "    <tr>\n",
       "      <th>26495</th>\n",
       "      <td>0.769065</td>\n",
       "      <td>-0.507770</td>\n",
       "      <td>0.774261</td>\n",
       "      <td>-0.500747</td>\n",
       "    </tr>\n",
       "  </tbody>\n",
       "</table>\n",
       "<p>26496 rows × 4 columns</p>\n",
       "</div>"
      ],
      "text/plain": [
       "       팔당댐 현재수위   팔당댐 유입량   팔당댐 저수량     총 방류량\n",
       "0      1.249199 -0.520569  1.264104 -0.513550\n",
       "1      1.241197 -0.505047  1.257363 -0.498022\n",
       "2      1.241197 -0.505047  1.257363 -0.498022\n",
       "3      1.233194 -0.505047  1.248375 -0.498022\n",
       "4      1.153172 -0.573060  1.165236 -0.497954\n",
       "...         ...       ...       ...       ...\n",
       "26491  0.777068 -0.506340  0.796731 -0.499316\n",
       "26492  0.721052 -0.575034  0.729322 -0.499929\n",
       "26493  0.681041 -0.575306  0.686629 -0.500202\n",
       "26494  0.681041 -0.575579  0.686629 -0.500474\n",
       "26495  0.769065 -0.507770  0.774261 -0.500747\n",
       "\n",
       "[26496 rows x 4 columns]"
      ]
     },
     "execution_count": 11,
     "metadata": {},
     "output_type": "execute_result"
    }
   ],
   "source": [
    "scaler = StandardScaler()\n",
    "train_df = pd.DataFrame(scaler.fit_transform(train_df[['팔당댐 현재수위','팔당댐 유입량','팔당댐 저수량','총 방류량']]),columns = ['팔당댐 현재수위','팔당댐 유입량','팔당댐 저수량','총 방류량'])\n",
    "train_df"
   ]
  },
  {
   "cell_type": "code",
   "execution_count": 12,
   "id": "9f0cb4f1",
   "metadata": {},
   "outputs": [],
   "source": [
    "\n",
    "reg_df = train_df\n",
    "# train\n",
    "reg_x_data = reg_df[-reg_df['팔당댐 유입량'].isna()][['팔당댐 현재수위','팔당댐 저수량', '총 방류량']].reset_index(drop=True)\n",
    "reg_y_data = reg_df[-reg_df['팔당댐 유입량'].isna()]['팔당댐 유입량'].reset_index(drop=True)\n",
    "# train 데이터를 train/val분리\n",
    "reg_x_train = reg_x_data.iloc[:-5000]\n",
    "reg_y_train = reg_y_data.iloc[:-5000]\n",
    "reg_x_val = reg_x_data.iloc[-5000:]\n",
    "reg_y_val = reg_y_data.iloc[-5000:]\n",
    "# test\n",
    "reg_x_test = reg_df[reg_df['팔당댐 유입량'].isna()][['팔당댐 현재수위','팔당댐 저수량', '총 방류량']].reset_index(drop=True)\n",
    "reg_y_test = reg_df[reg_df['팔당댐 유입량'].isna()]['팔당댐 유입량'].reset_index(drop=True)"
   ]
  },
  {
   "cell_type": "code",
   "execution_count": 13,
   "id": "d3bb8229",
   "metadata": {},
   "outputs": [
    {
     "data": {
      "text/plain": [
       "((26496, 4), (21282, 3), (5000, 3), (214, 3), (21282,), (5000,), (214,))"
      ]
     },
     "execution_count": 13,
     "metadata": {},
     "output_type": "execute_result"
    }
   ],
   "source": [
    "reg_df.shape, reg_x_train.shape,reg_x_val.shape,reg_x_test.shape, reg_y_train.shape, reg_y_val.shape, reg_y_test.shape"
   ]
  },
  {
   "cell_type": "markdown",
   "id": "1cbe473b",
   "metadata": {},
   "source": [
    "# 모델 테스트"
   ]
  },
  {
   "cell_type": "markdown",
   "id": "78578a0c",
   "metadata": {},
   "source": [
    "## 랜덤포레스트"
   ]
  },
  {
   "cell_type": "code",
   "execution_count": 14,
   "id": "f9379028",
   "metadata": {},
   "outputs": [
    {
     "name": "stdout",
     "output_type": "stream",
     "text": [
      "RMSE : 0.10137954261638009\n"
     ]
    }
   ],
   "source": [
    "# RandongForest\n",
    "kfold = KFold(n_splits=2, shuffle=True)\n",
    "\n",
    "rf = RandomForestRegressor(n_jobs=-1)\n",
    "\n",
    "params = {\n",
    "    \"n_estimators\" : (100, 150, 200)\n",
    "}\n",
    "\n",
    "grid_cv = GridSearchCV(rf,\n",
    "                       param_grid=params,\n",
    "                       cv = kfold,\n",
    "                       n_jobs=-1)\n",
    "grid_cv.fit(reg_x_train, reg_y_train)\n",
    "\n",
    "# rmse \n",
    "model = grid_cv.best_estimator_\n",
    "reg_y_val_pred = model.predict(reg_x_val)\n",
    "rmse = np.sqrt(mean_squared_error(reg_y_val, reg_y_val_pred))\n",
    "print(f'RMSE : {rmse}')"
   ]
  },
  {
   "cell_type": "markdown",
   "id": "ffc817d6",
   "metadata": {},
   "source": [
    "## 릿지"
   ]
  },
  {
   "cell_type": "code",
   "execution_count": 15,
   "id": "d654125e",
   "metadata": {},
   "outputs": [
    {
     "name": "stdout",
     "output_type": "stream",
     "text": [
      "RMSE : 0.08038879341492373\n"
     ]
    }
   ],
   "source": [
    "# Ridge\n",
    "ridge = Ridge(alpha = 0.05, max_iter = 10000)\n",
    "model2 = ridge.fit(reg_x_train, reg_y_train)\n",
    "reg_y_val_pred = model2.predict(reg_x_val)\n",
    "rmse = np.sqrt(mean_squared_error(reg_y_val, reg_y_val_pred))\n",
    "print(f'RMSE : {rmse}')"
   ]
  },
  {
   "cell_type": "code",
   "execution_count": 16,
   "id": "9520f505",
   "metadata": {
    "scrolled": true
   },
   "outputs": [],
   "source": [
    "label =model2.predict(reg_x_test)\n",
    "reg_y_test[:] = list(label)"
   ]
  },
  {
   "cell_type": "code",
   "execution_count": 17,
   "id": "b4e075f2",
   "metadata": {},
   "outputs": [
    {
     "data": {
      "text/plain": [
       "0     -0.369663\n",
       "1     -0.369066\n",
       "2     -0.434838\n",
       "3     -0.236519\n",
       "4     -0.234183\n",
       "         ...   \n",
       "209   -0.500351\n",
       "210   -0.498726\n",
       "211   -0.496052\n",
       "212   -0.526891\n",
       "213   -0.522828\n",
       "Name: 팔당댐 유입량, Length: 214, dtype: float64"
      ]
     },
     "execution_count": 17,
     "metadata": {},
     "output_type": "execute_result"
    }
   ],
   "source": [
    "reg_y_test"
   ]
  },
  {
   "cell_type": "code",
   "execution_count": 18,
   "id": "267a30e7",
   "metadata": {},
   "outputs": [],
   "source": [
    "new_train_df = pd.concat([reg_x_train,reg_y_train],axis =1)\n",
    "new_val_df = pd.concat([reg_x_val,reg_y_val],axis = 1)\n",
    "new_test_df = pd.concat([reg_x_test,reg_y_test],axis = 1)"
   ]
  },
  {
   "cell_type": "code",
   "execution_count": 19,
   "id": "e0fb7fc4",
   "metadata": {},
   "outputs": [
    {
     "data": {
      "text/plain": [
       "((21282, 4), (5000, 4), (214, 4))"
      ]
     },
     "execution_count": 19,
     "metadata": {},
     "output_type": "execute_result"
    }
   ],
   "source": [
    "new_train_df.shape, new_val_df.shape, new_test_df.shape"
   ]
  },
  {
   "cell_type": "code",
   "execution_count": 20,
   "id": "f24c1fe9",
   "metadata": {},
   "outputs": [],
   "source": [
    "new_data = pd.concat([new_train_df, new_val_df])\n",
    "new = pd.concat([new_data,new_test_df])"
   ]
  },
  {
   "cell_type": "code",
   "execution_count": 21,
   "id": "ba1a9cfb",
   "metadata": {},
   "outputs": [
    {
     "data": {
      "text/html": [
       "<div>\n",
       "<style scoped>\n",
       "    .dataframe tbody tr th:only-of-type {\n",
       "        vertical-align: middle;\n",
       "    }\n",
       "\n",
       "    .dataframe tbody tr th {\n",
       "        vertical-align: top;\n",
       "    }\n",
       "\n",
       "    .dataframe thead th {\n",
       "        text-align: right;\n",
       "    }\n",
       "</style>\n",
       "<table border=\"1\" class=\"dataframe\">\n",
       "  <thead>\n",
       "    <tr style=\"text-align: right;\">\n",
       "      <th></th>\n",
       "      <th>팔당댐 현재수위</th>\n",
       "      <th>팔당댐 저수량</th>\n",
       "      <th>총 방류량</th>\n",
       "      <th>팔당댐 유입량</th>\n",
       "    </tr>\n",
       "  </thead>\n",
       "  <tbody>\n",
       "    <tr>\n",
       "      <th>0</th>\n",
       "      <td>25.290</td>\n",
       "      <td>2772.396441</td>\n",
       "      <td>228.568710</td>\n",
       "      <td>140.692910</td>\n",
       "    </tr>\n",
       "    <tr>\n",
       "      <th>1</th>\n",
       "      <td>25.289</td>\n",
       "      <td>2762.495074</td>\n",
       "      <td>228.637813</td>\n",
       "      <td>163.485642</td>\n",
       "    </tr>\n",
       "    <tr>\n",
       "      <th>2</th>\n",
       "      <td>25.289</td>\n",
       "      <td>2762.495074</td>\n",
       "      <td>228.637813</td>\n",
       "      <td>163.485642</td>\n",
       "    </tr>\n",
       "    <tr>\n",
       "      <th>3</th>\n",
       "      <td>25.288</td>\n",
       "      <td>2749.293252</td>\n",
       "      <td>228.637813</td>\n",
       "      <td>163.485642</td>\n",
       "    </tr>\n",
       "    <tr>\n",
       "      <th>4</th>\n",
       "      <td>25.278</td>\n",
       "      <td>2627.176397</td>\n",
       "      <td>228.638117</td>\n",
       "      <td>63.617487</td>\n",
       "    </tr>\n",
       "    <tr>\n",
       "      <th>...</th>\n",
       "      <td>...</td>\n",
       "      <td>...</td>\n",
       "      <td>...</td>\n",
       "      <td>...</td>\n",
       "    </tr>\n",
       "    <tr>\n",
       "      <th>26491</th>\n",
       "      <td>25.144</td>\n",
       "      <td>1029.755916</td>\n",
       "      <td>228.622053</td>\n",
       "      <td>170.380338</td>\n",
       "    </tr>\n",
       "    <tr>\n",
       "      <th>26492</th>\n",
       "      <td>25.140</td>\n",
       "      <td>976.948627</td>\n",
       "      <td>228.622659</td>\n",
       "      <td>172.766320</td>\n",
       "    </tr>\n",
       "    <tr>\n",
       "      <th>26493</th>\n",
       "      <td>25.145</td>\n",
       "      <td>1042.957738</td>\n",
       "      <td>228.642966</td>\n",
       "      <td>176.693008</td>\n",
       "    </tr>\n",
       "    <tr>\n",
       "      <th>26494</th>\n",
       "      <td>25.140</td>\n",
       "      <td>976.948627</td>\n",
       "      <td>228.496576</td>\n",
       "      <td>131.410738</td>\n",
       "    </tr>\n",
       "    <tr>\n",
       "      <th>26495</th>\n",
       "      <td>25.140</td>\n",
       "      <td>976.948627</td>\n",
       "      <td>228.514761</td>\n",
       "      <td>137.375485</td>\n",
       "    </tr>\n",
       "  </tbody>\n",
       "</table>\n",
       "<p>26496 rows × 4 columns</p>\n",
       "</div>"
      ],
      "text/plain": [
       "       팔당댐 현재수위      팔당댐 저수량       총 방류량     팔당댐 유입량\n",
       "0        25.290  2772.396441  228.568710  140.692910\n",
       "1        25.289  2762.495074  228.637813  163.485642\n",
       "2        25.289  2762.495074  228.637813  163.485642\n",
       "3        25.288  2749.293252  228.637813  163.485642\n",
       "4        25.278  2627.176397  228.638117   63.617487\n",
       "...         ...          ...         ...         ...\n",
       "26491    25.144  1029.755916  228.622053  170.380338\n",
       "26492    25.140   976.948627  228.622659  172.766320\n",
       "26493    25.145  1042.957738  228.642966  176.693008\n",
       "26494    25.140   976.948627  228.496576  131.410738\n",
       "26495    25.140   976.948627  228.514761  137.375485\n",
       "\n",
       "[26496 rows x 4 columns]"
      ]
     },
     "execution_count": 21,
     "metadata": {},
     "output_type": "execute_result"
    }
   ],
   "source": [
    "new_df = pd.DataFrame(scaler.inverse_transform(new),columns =new.columns )\n",
    "new_df"
   ]
  },
  {
   "cell_type": "markdown",
   "id": "55d8e63d",
   "metadata": {},
   "source": [
    "이렇게되면 데이터가 다섞인다...test데이터를 마지막에CONCAT했으니 뒤에서 N번째 것으로 자른다??"
   ]
  },
  {
   "cell_type": "code",
   "execution_count": 22,
   "id": "83bb9665",
   "metadata": {},
   "outputs": [
    {
     "data": {
      "text/html": [
       "<div>\n",
       "<style scoped>\n",
       "    .dataframe tbody tr th:only-of-type {\n",
       "        vertical-align: middle;\n",
       "    }\n",
       "\n",
       "    .dataframe tbody tr th {\n",
       "        vertical-align: top;\n",
       "    }\n",
       "\n",
       "    .dataframe thead th {\n",
       "        text-align: right;\n",
       "    }\n",
       "</style>\n",
       "<table border=\"1\" class=\"dataframe\">\n",
       "  <thead>\n",
       "    <tr style=\"text-align: right;\">\n",
       "      <th></th>\n",
       "      <th>팔당댐 현재수위</th>\n",
       "      <th>팔당댐 저수량</th>\n",
       "      <th>총 방류량</th>\n",
       "      <th>팔당댐 유입량</th>\n",
       "    </tr>\n",
       "  </thead>\n",
       "  <tbody>\n",
       "    <tr>\n",
       "      <th>0</th>\n",
       "      <td>1.249199</td>\n",
       "      <td>1.264104</td>\n",
       "      <td>-0.513550</td>\n",
       "      <td>-0.520569</td>\n",
       "    </tr>\n",
       "    <tr>\n",
       "      <th>1</th>\n",
       "      <td>1.241197</td>\n",
       "      <td>1.257363</td>\n",
       "      <td>-0.498022</td>\n",
       "      <td>-0.505047</td>\n",
       "    </tr>\n",
       "    <tr>\n",
       "      <th>2</th>\n",
       "      <td>1.241197</td>\n",
       "      <td>1.257363</td>\n",
       "      <td>-0.498022</td>\n",
       "      <td>-0.505047</td>\n",
       "    </tr>\n",
       "    <tr>\n",
       "      <th>3</th>\n",
       "      <td>1.233194</td>\n",
       "      <td>1.248375</td>\n",
       "      <td>-0.498022</td>\n",
       "      <td>-0.505047</td>\n",
       "    </tr>\n",
       "    <tr>\n",
       "      <th>4</th>\n",
       "      <td>1.153172</td>\n",
       "      <td>1.165236</td>\n",
       "      <td>-0.497954</td>\n",
       "      <td>-0.573060</td>\n",
       "    </tr>\n",
       "    <tr>\n",
       "      <th>...</th>\n",
       "      <td>...</td>\n",
       "      <td>...</td>\n",
       "      <td>...</td>\n",
       "      <td>...</td>\n",
       "    </tr>\n",
       "    <tr>\n",
       "      <th>209</th>\n",
       "      <td>0.080874</td>\n",
       "      <td>0.077697</td>\n",
       "      <td>-0.501564</td>\n",
       "      <td>-0.500351</td>\n",
       "    </tr>\n",
       "    <tr>\n",
       "      <th>210</th>\n",
       "      <td>0.048865</td>\n",
       "      <td>0.041745</td>\n",
       "      <td>-0.501428</td>\n",
       "      <td>-0.498726</td>\n",
       "    </tr>\n",
       "    <tr>\n",
       "      <th>211</th>\n",
       "      <td>0.088876</td>\n",
       "      <td>0.086685</td>\n",
       "      <td>-0.496865</td>\n",
       "      <td>-0.496052</td>\n",
       "    </tr>\n",
       "    <tr>\n",
       "      <th>212</th>\n",
       "      <td>0.048865</td>\n",
       "      <td>0.041745</td>\n",
       "      <td>-0.529758</td>\n",
       "      <td>-0.526891</td>\n",
       "    </tr>\n",
       "    <tr>\n",
       "      <th>213</th>\n",
       "      <td>0.048865</td>\n",
       "      <td>0.041745</td>\n",
       "      <td>-0.525672</td>\n",
       "      <td>-0.522828</td>\n",
       "    </tr>\n",
       "  </tbody>\n",
       "</table>\n",
       "<p>26496 rows × 4 columns</p>\n",
       "</div>"
      ],
      "text/plain": [
       "     팔당댐 현재수위   팔당댐 저수량     총 방류량   팔당댐 유입량\n",
       "0    1.249199  1.264104 -0.513550 -0.520569\n",
       "1    1.241197  1.257363 -0.498022 -0.505047\n",
       "2    1.241197  1.257363 -0.498022 -0.505047\n",
       "3    1.233194  1.248375 -0.498022 -0.505047\n",
       "4    1.153172  1.165236 -0.497954 -0.573060\n",
       "..        ...       ...       ...       ...\n",
       "209  0.080874  0.077697 -0.501564 -0.500351\n",
       "210  0.048865  0.041745 -0.501428 -0.498726\n",
       "211  0.088876  0.086685 -0.496865 -0.496052\n",
       "212  0.048865  0.041745 -0.529758 -0.526891\n",
       "213  0.048865  0.041745 -0.525672 -0.522828\n",
       "\n",
       "[26496 rows x 4 columns]"
      ]
     },
     "execution_count": 22,
     "metadata": {},
     "output_type": "execute_result"
    }
   ],
   "source": [
    "new"
   ]
  },
  {
   "cell_type": "code",
   "execution_count": null,
   "id": "c8d814d1",
   "metadata": {},
   "outputs": [],
   "source": []
  },
  {
   "cell_type": "code",
   "execution_count": null,
   "id": "60878c64",
   "metadata": {},
   "outputs": [],
   "source": []
  },
  {
   "cell_type": "code",
   "execution_count": null,
   "id": "d83dd6b9",
   "metadata": {},
   "outputs": [],
   "source": []
  },
  {
   "cell_type": "code",
   "execution_count": null,
   "id": "413e12c5",
   "metadata": {},
   "outputs": [],
   "source": []
  },
  {
   "cell_type": "code",
   "execution_count": null,
   "id": "86e1aaf8",
   "metadata": {},
   "outputs": [],
   "source": []
  },
  {
   "cell_type": "code",
   "execution_count": null,
   "id": "9c279ee3",
   "metadata": {},
   "outputs": [],
   "source": []
  },
  {
   "cell_type": "code",
   "execution_count": null,
   "id": "64d4923d",
   "metadata": {},
   "outputs": [],
   "source": []
  },
  {
   "cell_type": "code",
   "execution_count": null,
   "id": "4e0ece4b",
   "metadata": {},
   "outputs": [],
   "source": []
  }
 ],
 "metadata": {
  "kernelspec": {
   "display_name": "jupyter",
   "language": "python",
   "name": "jupyter"
  },
  "language_info": {
   "codemirror_mode": {
    "name": "ipython",
    "version": 3
   },
   "file_extension": ".py",
   "mimetype": "text/x-python",
   "name": "python",
   "nbconvert_exporter": "python",
   "pygments_lexer": "ipython3",
   "version": "3.10.4"
  },
  "toc": {
   "base_numbering": 1,
   "nav_menu": {},
   "number_sections": true,
   "sideBar": true,
   "skip_h1_title": false,
   "title_cell": "Table of Contents",
   "title_sidebar": "Contents",
   "toc_cell": false,
   "toc_position": {},
   "toc_section_display": true,
   "toc_window_display": false
  }
 },
 "nbformat": 4,
 "nbformat_minor": 5
}
