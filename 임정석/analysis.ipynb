{
 "cells": [
  {
   "cell_type": "markdown",
   "id": "bdc17bc6",
   "metadata": {},
   "source": [
    "## 모듈 Import"
   ]
  },
  {
   "cell_type": "code",
   "execution_count": 33,
   "id": "35c6ebd4",
   "metadata": {},
   "outputs": [],
   "source": [
    "import os\n",
    "import sys\n",
    "from pathlib import Path\n",
    "import pandas as pd\n",
    "import numpy as np\n",
    "from glob import glob\n",
    "from scipy import interpolate\n",
    "import warnings\n",
    "import datetime\n",
    "import seaborn as sns\n",
    "import matplotlib.pyplot as plt\n",
    "from statsmodels.tsa.seasonal import seasonal_decompose \n",
    "warnings.filterwarnings(\"ignore\")\n",
    "sys.path.append(str(Path(os.getcwd())))"
   ]
  },
  {
   "cell_type": "markdown",
   "id": "52f3c136",
   "metadata": {},
   "source": [
    "## Path 설정"
   ]
  },
  {
   "cell_type": "code",
   "execution_count": 2,
   "id": "31f23b19",
   "metadata": {},
   "outputs": [],
   "source": [
    "base_path = Path(os.getcwd()).parent\n",
    "sys.path.append(base_path)"
   ]
  },
  {
   "cell_type": "markdown",
   "id": "51ed8f3e",
   "metadata": {},
   "source": [
    "## 데이터 로딩"
   ]
  },
  {
   "cell_type": "code",
   "execution_count": 3,
   "id": "01a34852",
   "metadata": {},
   "outputs": [],
   "source": [
    "water_lst = glob(f'{base_path}/raw_data/water_data/*.csv')\n",
    "rain_lst = glob(f'{base_path}/raw_data/rf_data/*.csv')"
   ]
  },
  {
   "cell_type": "markdown",
   "id": "2034c663",
   "metadata": {},
   "source": [
    "## 데이터 병합"
   ]
  },
  {
   "cell_type": "code",
   "execution_count": 4,
   "id": "5cfb8e78",
   "metadata": {},
   "outputs": [],
   "source": [
    "water_lst = glob(f'{base_path}/raw_data/water_data/*.csv')\n",
    "rain_lst = glob(f'{base_path}/raw_data/rf_data/*.csv')\n",
    "\n",
    "water_df = pd.DataFrame()\n",
    "rain_df = pd.DataFrame()\n",
    "for w in water_lst:\n",
    "    water_df = water_df.append(pd.read_csv(w))\n",
    "for r in rain_lst:\n",
    "    rain_df = rain_df.append(pd.read_csv(r))"
   ]
  },
  {
   "cell_type": "markdown",
   "id": "d62f0948",
   "metadata": {},
   "source": [
    "## 데이터 명세"
   ]
  },
  {
   "cell_type": "code",
   "execution_count": 5,
   "id": "33745b39",
   "metadata": {},
   "outputs": [
    {
     "data": {
      "text/plain": [
       "'\\nYMDHM : 년월일시분\\nrf_10184100 : 대곡교 강수량(단위 : cm)\\nrf_10184110 : 진관교 강수량(단위 : cm)\\nrf_10184140 : 송정동 강수량(단위 : cm)\\n'"
      ]
     },
     "execution_count": 5,
     "metadata": {},
     "output_type": "execute_result"
    }
   ],
   "source": [
    "# water 데이터 컬럼 설명\n",
    "\"\"\"\n",
    "ymdhm : 년월일시분\n",
    "swl : 팔당댐 현재수위 (단위 :El.m)\n",
    "inf : 팔당댐 유입량 (단위 : m^3/s)\n",
    "swf : 팔당댐 저수량 (단위 : 만m^3)\n",
    "ecpc : 팔당댐 공용량 (단위 : 백만m^3)\n",
    "tototf: 총 방류량 (eksdnl : m^3/s)\n",
    "tide_level : 강화대교 조위 ( 단위 : cm) # 조위는 조석에 의해 변하는 해수면의 높이\n",
    "wl_1018662 : 청담대교 수위 ( 단위 : cm)\n",
    "fw_1018622 : 청담대교 유량 ( 단위 : m^3/s)\n",
    "(유량은 단위시간 당 얼마만큼의 체적에 해당하는 액체가 이동했는지 나타낼 때 쓰는 개념)\n",
    "wl_1018680 : 잠수교 수위 ( 단위 : cm)\n",
    "fw_1018680 : 잠수교 유량 ( 단위 : m^3/s)\n",
    "wl_1018683 : 한강대교 수위 ( 단위 : cm)\n",
    "fw_1018683 : 한강대교 유량 ( 단위 : m^3/s)\n",
    "wl_1019630 : 행주대교 수위 ( 단위 : cm)\n",
    "fw_1019630 : 행주대교 유량 ( 단위 : m^3/s)\n",
    "\"\"\"\n",
    "\n",
    "# RainFall 데이터 컬럼 설명\n",
    "\"\"\"\n",
    "YMDHM : 년월일시분\n",
    "rf_10184100 : 대곡교 강수량(단위 : cm)\n",
    "rf_10184110 : 진관교 강수량(단위 : cm)\n",
    "rf_10184140 : 송정동 강수량(단위 : cm)\n",
    "\"\"\""
   ]
  },
  {
   "cell_type": "markdown",
   "id": "504202ee",
   "metadata": {},
   "source": [
    "## 데이터 타입 수정"
   ]
  },
  {
   "cell_type": "code",
   "execution_count": 6,
   "id": "e9b9a834",
   "metadata": {},
   "outputs": [],
   "source": [
    "water_df['ymdhm'] = pd.to_datetime(water_df['ymdhm'], format = '%Y-%m-%d %H:%M:%S' )\n",
    "rain_df['ymdhm'] = pd.to_datetime(water_df['ymdhm'], format = '%Y-%m-%d %H:%M:%S' )"
   ]
  },
  {
   "cell_type": "code",
   "execution_count": 7,
   "id": "bebbeabe",
   "metadata": {},
   "outputs": [],
   "source": [
    "merge_df = pd.merge(water_df, rain_df, how = 'left', on = 'ymdhm')"
   ]
  },
  {
   "cell_type": "code",
   "execution_count": 8,
   "id": "d61a2acb",
   "metadata": {
    "scrolled": false
   },
   "outputs": [
    {
     "data": {
      "text/html": [
       "<div>\n",
       "<style scoped>\n",
       "    .dataframe tbody tr th:only-of-type {\n",
       "        vertical-align: middle;\n",
       "    }\n",
       "\n",
       "    .dataframe tbody tr th {\n",
       "        vertical-align: top;\n",
       "    }\n",
       "\n",
       "    .dataframe thead th {\n",
       "        text-align: right;\n",
       "    }\n",
       "</style>\n",
       "<table border=\"1\" class=\"dataframe\">\n",
       "  <thead>\n",
       "    <tr style=\"text-align: right;\">\n",
       "      <th></th>\n",
       "      <th>ymdhm</th>\n",
       "      <th>swl</th>\n",
       "      <th>inf</th>\n",
       "      <th>sfw</th>\n",
       "      <th>ecpc</th>\n",
       "      <th>tototf</th>\n",
       "      <th>tide_level</th>\n",
       "      <th>wl_1018662</th>\n",
       "      <th>fw_1018662</th>\n",
       "      <th>wl_1018680</th>\n",
       "      <th>fw_1018680</th>\n",
       "      <th>wl_1018683</th>\n",
       "      <th>fw_1018683</th>\n",
       "      <th>wl_1019630</th>\n",
       "      <th>fw_1019630</th>\n",
       "      <th>rf_10184100</th>\n",
       "      <th>rf_10184110</th>\n",
       "      <th>rf_10184140</th>\n",
       "    </tr>\n",
       "  </thead>\n",
       "  <tbody>\n",
       "    <tr>\n",
       "      <th>0</th>\n",
       "      <td>2012-05-01 00:00:00</td>\n",
       "      <td>24.800</td>\n",
       "      <td>555.00</td>\n",
       "      <td>219.07</td>\n",
       "      <td>24.93</td>\n",
       "      <td>555.00</td>\n",
       "      <td>445.0</td>\n",
       "      <td>310.7</td>\n",
       "      <td>469.05</td>\n",
       "      <td>300.2</td>\n",
       "      <td>0.0</td>\n",
       "      <td>290.0</td>\n",
       "      <td>729.80</td>\n",
       "      <td>275.3</td>\n",
       "      <td>540.18</td>\n",
       "      <td>0.0</td>\n",
       "      <td>0.0</td>\n",
       "      <td>0.0</td>\n",
       "    </tr>\n",
       "    <tr>\n",
       "      <th>1</th>\n",
       "      <td>2012-05-01 00:10:00</td>\n",
       "      <td>24.794</td>\n",
       "      <td>464.60</td>\n",
       "      <td>218.86</td>\n",
       "      <td>25.15</td>\n",
       "      <td>562.90</td>\n",
       "      <td>449.0</td>\n",
       "      <td>314.7</td>\n",
       "      <td>498.00</td>\n",
       "      <td>300.2</td>\n",
       "      <td>0.0</td>\n",
       "      <td>290.0</td>\n",
       "      <td>731.48</td>\n",
       "      <td>275.3</td>\n",
       "      <td>540.18</td>\n",
       "      <td>0.0</td>\n",
       "      <td>0.0</td>\n",
       "      <td>0.0</td>\n",
       "    </tr>\n",
       "    <tr>\n",
       "      <th>2</th>\n",
       "      <td>2012-05-01 00:20:00</td>\n",
       "      <td>24.789</td>\n",
       "      <td>478.10</td>\n",
       "      <td>218.69</td>\n",
       "      <td>25.31</td>\n",
       "      <td>576.40</td>\n",
       "      <td>451.0</td>\n",
       "      <td>313.7</td>\n",
       "      <td>490.68</td>\n",
       "      <td>301.2</td>\n",
       "      <td>0.0</td>\n",
       "      <td>290.0</td>\n",
       "      <td>726.42</td>\n",
       "      <td>275.3</td>\n",
       "      <td>540.18</td>\n",
       "      <td>0.0</td>\n",
       "      <td>0.0</td>\n",
       "      <td>0.0</td>\n",
       "    </tr>\n",
       "    <tr>\n",
       "      <th>3</th>\n",
       "      <td>2012-05-01 00:30:00</td>\n",
       "      <td>24.789</td>\n",
       "      <td>464.80</td>\n",
       "      <td>218.69</td>\n",
       "      <td>25.31</td>\n",
       "      <td>563.10</td>\n",
       "      <td>452.0</td>\n",
       "      <td>311.7</td>\n",
       "      <td>476.21</td>\n",
       "      <td>301.2</td>\n",
       "      <td>0.0</td>\n",
       "      <td>290.0</td>\n",
       "      <td>726.42</td>\n",
       "      <td>276.3</td>\n",
       "      <td>552.17</td>\n",
       "      <td>0.0</td>\n",
       "      <td>0.0</td>\n",
       "      <td>0.0</td>\n",
       "    </tr>\n",
       "    <tr>\n",
       "      <th>4</th>\n",
       "      <td>2012-05-01 00:40:00</td>\n",
       "      <td>24.789</td>\n",
       "      <td>478.10</td>\n",
       "      <td>218.69</td>\n",
       "      <td>25.31</td>\n",
       "      <td>576.40</td>\n",
       "      <td>450.0</td>\n",
       "      <td>311.7</td>\n",
       "      <td>476.21</td>\n",
       "      <td>301.2</td>\n",
       "      <td>0.0</td>\n",
       "      <td>291.0</td>\n",
       "      <td>707.17</td>\n",
       "      <td>277.3</td>\n",
       "      <td>564.29</td>\n",
       "      <td>0.0</td>\n",
       "      <td>0.0</td>\n",
       "      <td>0.0</td>\n",
       "    </tr>\n",
       "    <tr>\n",
       "      <th>...</th>\n",
       "      <td>...</td>\n",
       "      <td>...</td>\n",
       "      <td>...</td>\n",
       "      <td>...</td>\n",
       "      <td>...</td>\n",
       "      <td>...</td>\n",
       "      <td>...</td>\n",
       "      <td>...</td>\n",
       "      <td>...</td>\n",
       "      <td>...</td>\n",
       "      <td>...</td>\n",
       "      <td>...</td>\n",
       "      <td>...</td>\n",
       "      <td>...</td>\n",
       "      <td>...</td>\n",
       "      <td>...</td>\n",
       "      <td>...</td>\n",
       "      <td>...</td>\n",
       "    </tr>\n",
       "    <tr>\n",
       "      <th>276331</th>\n",
       "      <td>2022-07-18 23:10:00</td>\n",
       "      <td>25.040</td>\n",
       "      <td>259.23</td>\n",
       "      <td>212.86</td>\n",
       "      <td>31.14</td>\n",
       "      <td>259.23</td>\n",
       "      <td>510.0</td>\n",
       "      <td>0.0</td>\n",
       "      <td>319.84</td>\n",
       "      <td>0.0</td>\n",
       "      <td>NaN</td>\n",
       "      <td>0.0</td>\n",
       "      <td>-456.41</td>\n",
       "      <td>0.0</td>\n",
       "      <td>974.40</td>\n",
       "      <td>0.0</td>\n",
       "      <td>0.0</td>\n",
       "      <td>0.0</td>\n",
       "    </tr>\n",
       "    <tr>\n",
       "      <th>276332</th>\n",
       "      <td>2022-07-18 23:20:00</td>\n",
       "      <td>25.040</td>\n",
       "      <td>260.46</td>\n",
       "      <td>212.86</td>\n",
       "      <td>31.14</td>\n",
       "      <td>260.46</td>\n",
       "      <td>492.0</td>\n",
       "      <td>0.0</td>\n",
       "      <td>314.01</td>\n",
       "      <td>0.0</td>\n",
       "      <td>NaN</td>\n",
       "      <td>0.0</td>\n",
       "      <td>-717.30</td>\n",
       "      <td>0.0</td>\n",
       "      <td>1006.88</td>\n",
       "      <td>0.0</td>\n",
       "      <td>0.0</td>\n",
       "      <td>0.0</td>\n",
       "    </tr>\n",
       "    <tr>\n",
       "      <th>276333</th>\n",
       "      <td>2022-07-18 23:30:00</td>\n",
       "      <td>25.040</td>\n",
       "      <td>259.37</td>\n",
       "      <td>212.86</td>\n",
       "      <td>31.14</td>\n",
       "      <td>259.37</td>\n",
       "      <td>475.0</td>\n",
       "      <td>0.0</td>\n",
       "      <td>387.55</td>\n",
       "      <td>0.0</td>\n",
       "      <td>NaN</td>\n",
       "      <td>0.0</td>\n",
       "      <td>-843.37</td>\n",
       "      <td>0.0</td>\n",
       "      <td>1039.90</td>\n",
       "      <td>0.0</td>\n",
       "      <td>0.0</td>\n",
       "      <td>0.0</td>\n",
       "    </tr>\n",
       "    <tr>\n",
       "      <th>276334</th>\n",
       "      <td>2022-07-18 23:40:00</td>\n",
       "      <td>25.040</td>\n",
       "      <td>259.13</td>\n",
       "      <td>212.86</td>\n",
       "      <td>31.14</td>\n",
       "      <td>259.13</td>\n",
       "      <td>458.0</td>\n",
       "      <td>0.0</td>\n",
       "      <td>454.91</td>\n",
       "      <td>0.0</td>\n",
       "      <td>NaN</td>\n",
       "      <td>0.0</td>\n",
       "      <td>-1023.37</td>\n",
       "      <td>0.0</td>\n",
       "      <td>1073.46</td>\n",
       "      <td>0.0</td>\n",
       "      <td>0.0</td>\n",
       "      <td>0.0</td>\n",
       "    </tr>\n",
       "    <tr>\n",
       "      <th>276335</th>\n",
       "      <td>2022-07-18 23:50:00</td>\n",
       "      <td>25.040</td>\n",
       "      <td>258.16</td>\n",
       "      <td>212.86</td>\n",
       "      <td>31.14</td>\n",
       "      <td>258.16</td>\n",
       "      <td>442.0</td>\n",
       "      <td>0.0</td>\n",
       "      <td>582.21</td>\n",
       "      <td>0.0</td>\n",
       "      <td>NaN</td>\n",
       "      <td>0.0</td>\n",
       "      <td>-1049.44</td>\n",
       "      <td>0.0</td>\n",
       "      <td>1090.45</td>\n",
       "      <td>0.0</td>\n",
       "      <td>0.0</td>\n",
       "      <td>0.0</td>\n",
       "    </tr>\n",
       "  </tbody>\n",
       "</table>\n",
       "<p>276336 rows × 18 columns</p>\n",
       "</div>"
      ],
      "text/plain": [
       "                     ymdhm     swl     inf     sfw   ecpc  tototf  tide_level  \\\n",
       "0      2012-05-01 00:00:00  24.800  555.00  219.07  24.93  555.00       445.0   \n",
       "1      2012-05-01 00:10:00  24.794  464.60  218.86  25.15  562.90       449.0   \n",
       "2      2012-05-01 00:20:00  24.789  478.10  218.69  25.31  576.40       451.0   \n",
       "3      2012-05-01 00:30:00  24.789  464.80  218.69  25.31  563.10       452.0   \n",
       "4      2012-05-01 00:40:00  24.789  478.10  218.69  25.31  576.40       450.0   \n",
       "...                    ...     ...     ...     ...    ...     ...         ...   \n",
       "276331 2022-07-18 23:10:00  25.040  259.23  212.86  31.14  259.23       510.0   \n",
       "276332 2022-07-18 23:20:00  25.040  260.46  212.86  31.14  260.46       492.0   \n",
       "276333 2022-07-18 23:30:00  25.040  259.37  212.86  31.14  259.37       475.0   \n",
       "276334 2022-07-18 23:40:00  25.040  259.13  212.86  31.14  259.13       458.0   \n",
       "276335 2022-07-18 23:50:00  25.040  258.16  212.86  31.14  258.16       442.0   \n",
       "\n",
       "        wl_1018662  fw_1018662  wl_1018680  fw_1018680  wl_1018683  \\\n",
       "0            310.7      469.05       300.2         0.0       290.0   \n",
       "1            314.7      498.00       300.2         0.0       290.0   \n",
       "2            313.7      490.68       301.2         0.0       290.0   \n",
       "3            311.7      476.21       301.2         0.0       290.0   \n",
       "4            311.7      476.21       301.2         0.0       291.0   \n",
       "...            ...         ...         ...         ...         ...   \n",
       "276331         0.0      319.84         0.0         NaN         0.0   \n",
       "276332         0.0      314.01         0.0         NaN         0.0   \n",
       "276333         0.0      387.55         0.0         NaN         0.0   \n",
       "276334         0.0      454.91         0.0         NaN         0.0   \n",
       "276335         0.0      582.21         0.0         NaN         0.0   \n",
       "\n",
       "        fw_1018683  wl_1019630  fw_1019630  rf_10184100  rf_10184110  \\\n",
       "0           729.80       275.3      540.18          0.0          0.0   \n",
       "1           731.48       275.3      540.18          0.0          0.0   \n",
       "2           726.42       275.3      540.18          0.0          0.0   \n",
       "3           726.42       276.3      552.17          0.0          0.0   \n",
       "4           707.17       277.3      564.29          0.0          0.0   \n",
       "...            ...         ...         ...          ...          ...   \n",
       "276331     -456.41         0.0      974.40          0.0          0.0   \n",
       "276332     -717.30         0.0     1006.88          0.0          0.0   \n",
       "276333     -843.37         0.0     1039.90          0.0          0.0   \n",
       "276334    -1023.37         0.0     1073.46          0.0          0.0   \n",
       "276335    -1049.44         0.0     1090.45          0.0          0.0   \n",
       "\n",
       "        rf_10184140  \n",
       "0               0.0  \n",
       "1               0.0  \n",
       "2               0.0  \n",
       "3               0.0  \n",
       "4               0.0  \n",
       "...             ...  \n",
       "276331          0.0  \n",
       "276332          0.0  \n",
       "276333          0.0  \n",
       "276334          0.0  \n",
       "276335          0.0  \n",
       "\n",
       "[276336 rows x 18 columns]"
      ]
     },
     "execution_count": 8,
     "metadata": {},
     "output_type": "execute_result"
    }
   ],
   "source": [
    "merge_df"
   ]
  },
  {
   "cell_type": "markdown",
   "id": "b08a036b",
   "metadata": {},
   "source": [
    "## 데이터셋 분리(train, valid, test)"
   ]
  },
  {
   "cell_type": "code",
   "execution_count": 9,
   "id": "0c5d5b86",
   "metadata": {},
   "outputs": [],
   "source": [
    "# test set: 2022 06 01 ~\n",
    "train = merge_df[-((merge_df['ymdhm'].dt.year==2022) & (merge_df['ymdhm'].dt.month>=6))].reset_index(drop =True)\n",
    "test = merge_df[((merge_df['ymdhm'].dt.year==2022) & (merge_df['ymdhm'].dt.month>=6))].reset_index(drop =True)"
   ]
  },
  {
   "cell_type": "code",
   "execution_count": 10,
   "id": "052feb6d",
   "metadata": {},
   "outputs": [
    {
     "data": {
      "text/plain": [
       "ymdhm             0\n",
       "swl              36\n",
       "inf              36\n",
       "sfw              36\n",
       "ecpc             36\n",
       "tototf           36\n",
       "tide_level        4\n",
       "wl_1018662        0\n",
       "fw_1018662     1216\n",
       "wl_1018680        0\n",
       "fw_1018680     6912\n",
       "wl_1018683        0\n",
       "fw_1018683        0\n",
       "wl_1019630        0\n",
       "fw_1019630        0\n",
       "rf_10184100       0\n",
       "rf_10184110       0\n",
       "rf_10184140       0\n",
       "dtype: int64"
      ]
     },
     "execution_count": 10,
     "metadata": {},
     "output_type": "execute_result"
    }
   ],
   "source": [
    "test.isna().sum()"
   ]
  },
  {
   "cell_type": "code",
   "execution_count": 11,
   "id": "10a927b3",
   "metadata": {},
   "outputs": [
    {
     "data": {
      "text/plain": [
       "ymdhm               0\n",
       "swl               707\n",
       "inf               707\n",
       "sfw               707\n",
       "ecpc              707\n",
       "tototf            707\n",
       "tide_level       4923\n",
       "wl_1018662         59\n",
       "fw_1018662      15164\n",
       "wl_1018680         59\n",
       "fw_1018680     189937\n",
       "wl_1018683         59\n",
       "fw_1018683       1279\n",
       "wl_1019630         59\n",
       "fw_1019630         59\n",
       "rf_10184100         0\n",
       "rf_10184110         0\n",
       "rf_10184140         0\n",
       "dtype: int64"
      ]
     },
     "execution_count": 11,
     "metadata": {},
     "output_type": "execute_result"
    }
   ],
   "source": [
    "train.isna().sum()"
   ]
  },
  {
   "cell_type": "markdown",
   "id": "2df683dc",
   "metadata": {},
   "source": [
    "- 테스트 데이터의 강화대교와 잠수교의 유량이 결측값으로 존재 이러한 경우 유량이 예측에 중요 변수일경우 예측정확도 감소\n",
    "- 유량의 결측값을 팔당댐의 방류와 강수량 데이터 그리고 다른 대교들의 유량데이터를 통해 보간할 수 있지않을까?? \n",
    "- 팔당댐의 현재수위, 유입량, 저수량, 공용량은 시계열이기때문에 t-n시점의 데이터와 강수량등등으로 유추할 수 있지않을까??(증발고려하기)"
   ]
  },
  {
   "cell_type": "markdown",
   "id": "331b3930",
   "metadata": {},
   "source": [
    "## 데이터 보간(Interpolation)"
   ]
  },
  {
   "cell_type": "markdown",
   "id": "a85654d7",
   "metadata": {},
   "source": [
    "- 팔당댐 보간 -> 팔당댐 데이터로 대교 유량 보간"
   ]
  },
  {
   "cell_type": "markdown",
   "id": "9dd4cc88",
   "metadata": {},
   "source": [
    "### 팔당댐 현재수위 "
   ]
  },
  {
   "cell_type": "code",
   "execution_count": 34,
   "id": "3950dc2b",
   "metadata": {},
   "outputs": [
    {
     "data": {
      "text/plain": [
       "<AxesSubplot:xlabel='ymdhm', ylabel='swl'>"
      ]
     },
     "execution_count": 34,
     "metadata": {},
     "output_type": "execute_result"
    },
    {
     "data": {
      "image/png": "[encoded data removed]",
      "text/plain": [
       "<Figure size 864x576 with 1 Axes>"
      ]
     },
     "metadata": {
      "needs_background": "light"
     },
     "output_type": "display_data"
    }
   ],
   "source": [
    "plt.figure(figsize = (12,8))\n",
    "sns.lineplot(train['ymdhm'], train['swl'])"
   ]
  },
  {
   "cell_type": "code",
   "execution_count": 35,
   "id": "c846b8f7",
   "metadata": {},
   "outputs": [
    {
     "data": {
      "text/plain": [
       "0.0"
      ]
     },
     "execution_count": 35,
     "metadata": {},
     "output_type": "execute_result"
    }
   ],
   "source": [
    "train['swl'].min()"
   ]
  },
  {
   "cell_type": "markdown",
   "id": "47bb6cb0",
   "metadata": {},
   "source": [
    "- 수위가 0인 데이터가 있다는것이 확인되었고, 이것이 진실된것인지 오류값인지 확인해보자"
   ]
  },
  {
   "cell_type": "code",
   "execution_count": 29,
   "id": "8a61beac",
   "metadata": {
    "scrolled": true
   },
   "outputs": [
    {
     "data": {
      "text/plain": [
       "[Timestamp('2012-07-02 21:00:00'),\n",
       " Timestamp('2012-07-02 22:00:00'),\n",
       " Timestamp('2012-07-02 23:00:00'),\n",
       " Timestamp('2012-07-03 00:00:00'),\n",
       " Timestamp('2012-07-03 01:00:00'),\n",
       " Timestamp('2012-07-03 02:00:00'),\n",
       " Timestamp('2012-07-03 03:00:00'),\n",
       " Timestamp('2012-07-03 04:00:00'),\n",
       " Timestamp('2012-07-03 05:00:00'),\n",
       " Timestamp('2012-07-03 06:00:00'),\n",
       " Timestamp('2012-07-03 07:00:00'),\n",
       " Timestamp('2012-07-03 08:00:00'),\n",
       " Timestamp('2012-07-04 21:40:00'),\n",
       " Timestamp('2012-07-04 21:50:00'),\n",
       " Timestamp('2012-07-04 22:10:00'),\n",
       " Timestamp('2012-07-04 22:20:00'),\n",
       " Timestamp('2012-07-04 22:30:00'),\n",
       " Timestamp('2012-07-04 22:40:00'),\n",
       " Timestamp('2012-07-04 22:50:00'),\n",
       " Timestamp('2012-07-04 23:10:00'),\n",
       " Timestamp('2012-07-04 23:20:00'),\n",
       " Timestamp('2012-07-04 23:30:00'),\n",
       " Timestamp('2012-07-04 23:40:00'),\n",
       " Timestamp('2012-07-04 23:50:00'),\n",
       " Timestamp('2012-07-05 00:10:00'),\n",
       " Timestamp('2012-07-05 00:20:00'),\n",
       " Timestamp('2012-07-05 00:30:00'),\n",
       " Timestamp('2012-07-05 00:40:00'),\n",
       " Timestamp('2012-07-05 00:50:00'),\n",
       " Timestamp('2012-07-05 01:10:00'),\n",
       " Timestamp('2012-07-05 01:20:00'),\n",
       " Timestamp('2012-07-05 01:30:00'),\n",
       " Timestamp('2012-07-05 01:40:00'),\n",
       " Timestamp('2012-07-05 01:50:00'),\n",
       " Timestamp('2012-07-05 02:10:00'),\n",
       " Timestamp('2012-07-05 02:20:00'),\n",
       " Timestamp('2012-07-05 02:30:00'),\n",
       " Timestamp('2012-07-05 02:40:00'),\n",
       " Timestamp('2012-07-05 02:50:00'),\n",
       " Timestamp('2012-07-05 03:10:00'),\n",
       " Timestamp('2012-07-05 03:20:00'),\n",
       " Timestamp('2012-07-05 03:30:00'),\n",
       " Timestamp('2012-07-05 03:40:00'),\n",
       " Timestamp('2012-07-05 03:50:00'),\n",
       " Timestamp('2012-07-05 04:10:00'),\n",
       " Timestamp('2012-07-05 04:20:00'),\n",
       " Timestamp('2012-07-05 04:30:00'),\n",
       " Timestamp('2012-07-05 04:40:00'),\n",
       " Timestamp('2012-07-05 04:50:00'),\n",
       " Timestamp('2012-07-05 05:10:00'),\n",
       " Timestamp('2012-07-05 05:20:00'),\n",
       " Timestamp('2012-07-05 05:30:00'),\n",
       " Timestamp('2012-07-05 05:40:00'),\n",
       " Timestamp('2012-07-05 05:50:00'),\n",
       " Timestamp('2012-07-05 06:10:00'),\n",
       " Timestamp('2012-07-05 06:20:00'),\n",
       " Timestamp('2012-07-05 06:30:00'),\n",
       " Timestamp('2012-07-05 06:40:00'),\n",
       " Timestamp('2012-07-05 06:50:00'),\n",
       " Timestamp('2012-07-05 07:10:00'),\n",
       " Timestamp('2012-07-05 07:20:00'),\n",
       " Timestamp('2012-07-05 07:30:00'),\n",
       " Timestamp('2012-07-05 07:40:00'),\n",
       " Timestamp('2012-07-05 07:50:00'),\n",
       " Timestamp('2012-07-05 08:10:00'),\n",
       " Timestamp('2012-07-05 08:20:00'),\n",
       " Timestamp('2012-07-05 08:30:00'),\n",
       " Timestamp('2012-07-05 08:40:00'),\n",
       " Timestamp('2013-07-11 18:00:00'),\n",
       " Timestamp('2013-07-11 19:00:00'),\n",
       " Timestamp('2013-07-11 20:00:00'),\n",
       " Timestamp('2013-07-11 21:00:00'),\n",
       " Timestamp('2013-07-11 22:00:00'),\n",
       " Timestamp('2013-07-11 23:00:00'),\n",
       " Timestamp('2013-07-12 00:00:00'),\n",
       " Timestamp('2013-07-12 01:00:00'),\n",
       " Timestamp('2013-07-12 02:00:00'),\n",
       " Timestamp('2013-07-12 03:00:00'),\n",
       " Timestamp('2013-07-12 04:00:00'),\n",
       " Timestamp('2013-07-12 05:00:00'),\n",
       " Timestamp('2013-07-12 06:00:00'),\n",
       " Timestamp('2013-07-12 07:00:00'),\n",
       " Timestamp('2018-07-05 16:40:00')]"
      ]
     },
     "execution_count": 29,
     "metadata": {},
     "output_type": "execute_result"
    }
   ],
   "source": [
    "list(train[train['swl']==0]['ymdhm'])"
   ]
  },
  {
   "cell_type": "code",
   "execution_count": 39,
   "id": "7db65300",
   "metadata": {
    "scrolled": true
   },
   "outputs": [
    {
     "data": {
      "text/plain": [
       "ymdhm          2012-07-02 21:10:00\n",
       "swl                         25.199\n",
       "inf                          245.3\n",
       "sfw                         233.19\n",
       "ecpc                         10.81\n",
       "tototf                       245.3\n",
       "tide_level                   228.0\n",
       "wl_1018662                   307.7\n",
       "fw_1018662                  447.93\n",
       "wl_1018680                   306.2\n",
       "fw_1018680                     0.0\n",
       "wl_1018683                   297.0\n",
       "fw_1018683                  840.67\n",
       "wl_1019630                   284.3\n",
       "fw_1019630                  652.89\n",
       "rf_10184100                    0.0\n",
       "rf_10184110                    0.0\n",
       "rf_10184140                    0.0\n",
       "Name: 9055, dtype: object"
      ]
     },
     "execution_count": 39,
     "metadata": {},
     "output_type": "execute_result"
    }
   ],
   "source": [
    "train.iloc[9055]"
   ]
  },
  {
   "cell_type": "code",
   "execution_count": 41,
   "id": "0866f4d9",
   "metadata": {},
   "outputs": [
    {
     "data": {
      "text/plain": [
       "ymdhm          2012-07-02 20:50:00\n",
       "swl                         25.206\n",
       "inf                          245.2\n",
       "sfw                         233.45\n",
       "ecpc                         10.55\n",
       "tototf                       245.2\n",
       "tide_level                   251.0\n",
       "wl_1018662                   320.7\n",
       "fw_1018662                   543.1\n",
       "wl_1018680                   314.2\n",
       "fw_1018680                     0.0\n",
       "wl_1018683                   303.0\n",
       "fw_1018683                 1115.28\n",
       "wl_1019630                   284.3\n",
       "fw_1019630                  652.89\n",
       "rf_10184100                    0.0\n",
       "rf_10184110                    0.0\n",
       "rf_10184140                    0.0\n",
       "Name: 9053, dtype: object"
      ]
     },
     "execution_count": 41,
     "metadata": {},
     "output_type": "execute_result"
    }
   ],
   "source": [
    "train.iloc[9053]"
   ]
  },
  {
   "cell_type": "code",
   "execution_count": 42,
   "id": "43be5f2c",
   "metadata": {},
   "outputs": [
    {
     "data": {
      "text/plain": [
       "ymdhm          2012-07-02 21:50:00\n",
       "swl                          25.21\n",
       "inf                          351.3\n",
       "sfw                         233.58\n",
       "ecpc                         10.42\n",
       "tototf                       251.3\n",
       "tide_level                   186.0\n",
       "wl_1018662                   300.7\n",
       "fw_1018662                  400.58\n",
       "wl_1018680                   300.2\n",
       "fw_1018680                     0.0\n",
       "wl_1018683                   291.0\n",
       "fw_1018683                  379.71\n",
       "wl_1019630                   280.3\n",
       "fw_1019630                  601.45\n",
       "rf_10184100                    0.0\n",
       "rf_10184110                    0.0\n",
       "rf_10184140                    0.0\n",
       "Name: 9059, dtype: object"
      ]
     },
     "execution_count": 42,
     "metadata": {},
     "output_type": "execute_result"
    }
   ],
   "source": [
    "train.iloc[9059]"
   ]
  },
  {
   "cell_type": "code",
   "execution_count": 36,
   "id": "b4499976",
   "metadata": {
    "scrolled": true
   },
   "outputs": [
    {
     "data": {
      "text/html": [
       "<div>\n",
       "<style scoped>\n",
       "    .dataframe tbody tr th:only-of-type {\n",
       "        vertical-align: middle;\n",
       "    }\n",
       "\n",
       "    .dataframe tbody tr th {\n",
       "        vertical-align: top;\n",
       "    }\n",
       "\n",
       "    .dataframe thead th {\n",
       "        text-align: right;\n",
       "    }\n",
       "</style>\n",
       "<table border=\"1\" class=\"dataframe\">\n",
       "  <thead>\n",
       "    <tr style=\"text-align: right;\">\n",
       "      <th></th>\n",
       "      <th>ymdhm</th>\n",
       "      <th>swl</th>\n",
       "      <th>inf</th>\n",
       "      <th>sfw</th>\n",
       "      <th>ecpc</th>\n",
       "      <th>tototf</th>\n",
       "      <th>tide_level</th>\n",
       "      <th>wl_1018662</th>\n",
       "      <th>fw_1018662</th>\n",
       "      <th>wl_1018680</th>\n",
       "      <th>fw_1018680</th>\n",
       "      <th>wl_1018683</th>\n",
       "      <th>fw_1018683</th>\n",
       "      <th>wl_1019630</th>\n",
       "      <th>fw_1019630</th>\n",
       "      <th>rf_10184100</th>\n",
       "      <th>rf_10184110</th>\n",
       "      <th>rf_10184140</th>\n",
       "    </tr>\n",
       "  </thead>\n",
       "  <tbody>\n",
       "    <tr>\n",
       "      <th>9054</th>\n",
       "      <td>2012-07-02 21:00:00</td>\n",
       "      <td>0.0</td>\n",
       "      <td>0.0</td>\n",
       "      <td>0.00</td>\n",
       "      <td>244.00</td>\n",
       "      <td>0.0</td>\n",
       "      <td>240.0</td>\n",
       "      <td>311.7</td>\n",
       "      <td>476.21</td>\n",
       "      <td>310.2</td>\n",
       "      <td>0.0</td>\n",
       "      <td>299.0</td>\n",
       "      <td>1010.22</td>\n",
       "      <td>284.3</td>\n",
       "      <td>652.89</td>\n",
       "      <td>0.0</td>\n",
       "      <td>0.0</td>\n",
       "      <td>0.0</td>\n",
       "    </tr>\n",
       "    <tr>\n",
       "      <th>9060</th>\n",
       "      <td>2012-07-02 22:00:00</td>\n",
       "      <td>0.0</td>\n",
       "      <td>0.0</td>\n",
       "      <td>0.00</td>\n",
       "      <td>244.00</td>\n",
       "      <td>0.0</td>\n",
       "      <td>176.0</td>\n",
       "      <td>301.7</td>\n",
       "      <td>407.18</td>\n",
       "      <td>299.2</td>\n",
       "      <td>0.0</td>\n",
       "      <td>290.0</td>\n",
       "      <td>326.94</td>\n",
       "      <td>277.3</td>\n",
       "      <td>564.29</td>\n",
       "      <td>0.0</td>\n",
       "      <td>0.0</td>\n",
       "      <td>0.0</td>\n",
       "    </tr>\n",
       "    <tr>\n",
       "      <th>9066</th>\n",
       "      <td>2012-07-02 23:00:00</td>\n",
       "      <td>0.0</td>\n",
       "      <td>0.0</td>\n",
       "      <td>0.00</td>\n",
       "      <td>244.00</td>\n",
       "      <td>0.0</td>\n",
       "      <td>122.0</td>\n",
       "      <td>300.7</td>\n",
       "      <td>400.58</td>\n",
       "      <td>294.2</td>\n",
       "      <td>0.0</td>\n",
       "      <td>283.0</td>\n",
       "      <td>590.88</td>\n",
       "      <td>266.3</td>\n",
       "      <td>438.33</td>\n",
       "      <td>0.0</td>\n",
       "      <td>0.0</td>\n",
       "      <td>0.0</td>\n",
       "    </tr>\n",
       "    <tr>\n",
       "      <th>9072</th>\n",
       "      <td>2012-07-03 00:00:00</td>\n",
       "      <td>0.0</td>\n",
       "      <td>0.0</td>\n",
       "      <td>0.00</td>\n",
       "      <td>244.00</td>\n",
       "      <td>0.0</td>\n",
       "      <td>80.0</td>\n",
       "      <td>295.7</td>\n",
       "      <td>368.42</td>\n",
       "      <td>285.2</td>\n",
       "      <td>0.0</td>\n",
       "      <td>277.0</td>\n",
       "      <td>306.19</td>\n",
       "      <td>268.3</td>\n",
       "      <td>460.03</td>\n",
       "      <td>0.0</td>\n",
       "      <td>0.0</td>\n",
       "      <td>0.0</td>\n",
       "    </tr>\n",
       "    <tr>\n",
       "      <th>9078</th>\n",
       "      <td>2012-07-03 01:00:00</td>\n",
       "      <td>0.0</td>\n",
       "      <td>0.0</td>\n",
       "      <td>0.00</td>\n",
       "      <td>244.00</td>\n",
       "      <td>0.0</td>\n",
       "      <td>158.0</td>\n",
       "      <td>297.7</td>\n",
       "      <td>381.12</td>\n",
       "      <td>286.2</td>\n",
       "      <td>0.0</td>\n",
       "      <td>276.0</td>\n",
       "      <td>184.79</td>\n",
       "      <td>263.3</td>\n",
       "      <td>406.79</td>\n",
       "      <td>0.0</td>\n",
       "      <td>0.0</td>\n",
       "      <td>0.0</td>\n",
       "    </tr>\n",
       "    <tr>\n",
       "      <th>...</th>\n",
       "      <td>...</td>\n",
       "      <td>...</td>\n",
       "      <td>...</td>\n",
       "      <td>...</td>\n",
       "      <td>...</td>\n",
       "      <td>...</td>\n",
       "      <td>...</td>\n",
       "      <td>...</td>\n",
       "      <td>...</td>\n",
       "      <td>...</td>\n",
       "      <td>...</td>\n",
       "      <td>...</td>\n",
       "      <td>...</td>\n",
       "      <td>...</td>\n",
       "      <td>...</td>\n",
       "      <td>...</td>\n",
       "      <td>...</td>\n",
       "      <td>...</td>\n",
       "    </tr>\n",
       "    <tr>\n",
       "      <th>36888</th>\n",
       "      <td>2013-07-12 04:00:00</td>\n",
       "      <td>0.0</td>\n",
       "      <td>0.0</td>\n",
       "      <td>0.00</td>\n",
       "      <td>244.00</td>\n",
       "      <td>0.0</td>\n",
       "      <td>195.0</td>\n",
       "      <td>405.7</td>\n",
       "      <td>1400.11</td>\n",
       "      <td>379.2</td>\n",
       "      <td>0.0</td>\n",
       "      <td>369.0</td>\n",
       "      <td>2252.24</td>\n",
       "      <td>343.3</td>\n",
       "      <td>1663.48</td>\n",
       "      <td>0.0</td>\n",
       "      <td>0.0</td>\n",
       "      <td>0.0</td>\n",
       "    </tr>\n",
       "    <tr>\n",
       "      <th>36894</th>\n",
       "      <td>2013-07-12 05:00:00</td>\n",
       "      <td>0.0</td>\n",
       "      <td>0.0</td>\n",
       "      <td>0.00</td>\n",
       "      <td>244.00</td>\n",
       "      <td>0.0</td>\n",
       "      <td>290.0</td>\n",
       "      <td>402.7</td>\n",
       "      <td>1362.85</td>\n",
       "      <td>374.2</td>\n",
       "      <td>0.0</td>\n",
       "      <td>365.0</td>\n",
       "      <td>2212.95</td>\n",
       "      <td>340.3</td>\n",
       "      <td>1600.64</td>\n",
       "      <td>0.0</td>\n",
       "      <td>0.0</td>\n",
       "      <td>0.0</td>\n",
       "    </tr>\n",
       "    <tr>\n",
       "      <th>36900</th>\n",
       "      <td>2013-07-12 06:00:00</td>\n",
       "      <td>0.0</td>\n",
       "      <td>0.0</td>\n",
       "      <td>0.00</td>\n",
       "      <td>244.00</td>\n",
       "      <td>0.0</td>\n",
       "      <td>464.0</td>\n",
       "      <td>399.7</td>\n",
       "      <td>1326.12</td>\n",
       "      <td>372.2</td>\n",
       "      <td>0.0</td>\n",
       "      <td>362.0</td>\n",
       "      <td>2144.56</td>\n",
       "      <td>338.3</td>\n",
       "      <td>1559.43</td>\n",
       "      <td>0.0</td>\n",
       "      <td>0.0</td>\n",
       "      <td>0.0</td>\n",
       "    </tr>\n",
       "    <tr>\n",
       "      <th>36906</th>\n",
       "      <td>2013-07-12 07:00:00</td>\n",
       "      <td>0.0</td>\n",
       "      <td>0.0</td>\n",
       "      <td>0.00</td>\n",
       "      <td>244.00</td>\n",
       "      <td>0.0</td>\n",
       "      <td>631.0</td>\n",
       "      <td>396.7</td>\n",
       "      <td>1289.90</td>\n",
       "      <td>370.2</td>\n",
       "      <td>0.0</td>\n",
       "      <td>360.0</td>\n",
       "      <td>2171.14</td>\n",
       "      <td>335.3</td>\n",
       "      <td>1498.64</td>\n",
       "      <td>0.0</td>\n",
       "      <td>0.0</td>\n",
       "      <td>0.0</td>\n",
       "    </tr>\n",
       "    <tr>\n",
       "      <th>168436</th>\n",
       "      <td>2018-07-05 16:40:00</td>\n",
       "      <td>0.0</td>\n",
       "      <td>-990.0</td>\n",
       "      <td>-0.01</td>\n",
       "      <td>244.01</td>\n",
       "      <td>-990.0</td>\n",
       "      <td>147.0</td>\n",
       "      <td>369.7</td>\n",
       "      <td>987.08</td>\n",
       "      <td>346.2</td>\n",
       "      <td>NaN</td>\n",
       "      <td>349.0</td>\n",
       "      <td>1176.93</td>\n",
       "      <td>330.3</td>\n",
       "      <td>1400.07</td>\n",
       "      <td>0.0</td>\n",
       "      <td>0.0</td>\n",
       "      <td>0.0</td>\n",
       "    </tr>\n",
       "  </tbody>\n",
       "</table>\n",
       "<p>83 rows × 18 columns</p>\n",
       "</div>"
      ],
      "text/plain": [
       "                     ymdhm  swl    inf   sfw    ecpc  tototf  tide_level  \\\n",
       "9054   2012-07-02 21:00:00  0.0    0.0  0.00  244.00     0.0       240.0   \n",
       "9060   2012-07-02 22:00:00  0.0    0.0  0.00  244.00     0.0       176.0   \n",
       "9066   2012-07-02 23:00:00  0.0    0.0  0.00  244.00     0.0       122.0   \n",
       "9072   2012-07-03 00:00:00  0.0    0.0  0.00  244.00     0.0        80.0   \n",
       "9078   2012-07-03 01:00:00  0.0    0.0  0.00  244.00     0.0       158.0   \n",
       "...                    ...  ...    ...   ...     ...     ...         ...   \n",
       "36888  2013-07-12 04:00:00  0.0    0.0  0.00  244.00     0.0       195.0   \n",
       "36894  2013-07-12 05:00:00  0.0    0.0  0.00  244.00     0.0       290.0   \n",
       "36900  2013-07-12 06:00:00  0.0    0.0  0.00  244.00     0.0       464.0   \n",
       "36906  2013-07-12 07:00:00  0.0    0.0  0.00  244.00     0.0       631.0   \n",
       "168436 2018-07-05 16:40:00  0.0 -990.0 -0.01  244.01  -990.0       147.0   \n",
       "\n",
       "        wl_1018662  fw_1018662  wl_1018680  fw_1018680  wl_1018683  \\\n",
       "9054         311.7      476.21       310.2         0.0       299.0   \n",
       "9060         301.7      407.18       299.2         0.0       290.0   \n",
       "9066         300.7      400.58       294.2         0.0       283.0   \n",
       "9072         295.7      368.42       285.2         0.0       277.0   \n",
       "9078         297.7      381.12       286.2         0.0       276.0   \n",
       "...            ...         ...         ...         ...         ...   \n",
       "36888        405.7     1400.11       379.2         0.0       369.0   \n",
       "36894        402.7     1362.85       374.2         0.0       365.0   \n",
       "36900        399.7     1326.12       372.2         0.0       362.0   \n",
       "36906        396.7     1289.90       370.2         0.0       360.0   \n",
       "168436       369.7      987.08       346.2         NaN       349.0   \n",
       "\n",
       "        fw_1018683  wl_1019630  fw_1019630  rf_10184100  rf_10184110  \\\n",
       "9054       1010.22       284.3      652.89          0.0          0.0   \n",
       "9060        326.94       277.3      564.29          0.0          0.0   \n",
       "9066        590.88       266.3      438.33          0.0          0.0   \n",
       "9072        306.19       268.3      460.03          0.0          0.0   \n",
       "9078        184.79       263.3      406.79          0.0          0.0   \n",
       "...            ...         ...         ...          ...          ...   \n",
       "36888      2252.24       343.3     1663.48          0.0          0.0   \n",
       "36894      2212.95       340.3     1600.64          0.0          0.0   \n",
       "36900      2144.56       338.3     1559.43          0.0          0.0   \n",
       "36906      2171.14       335.3     1498.64          0.0          0.0   \n",
       "168436     1176.93       330.3     1400.07          0.0          0.0   \n",
       "\n",
       "        rf_10184140  \n",
       "9054            0.0  \n",
       "9060            0.0  \n",
       "9066            0.0  \n",
       "9072            0.0  \n",
       "9078            0.0  \n",
       "...             ...  \n",
       "36888           0.0  \n",
       "36894           0.0  \n",
       "36900           0.0  \n",
       "36906           0.0  \n",
       "168436          0.0  \n",
       "\n",
       "[83 rows x 18 columns]"
      ]
     },
     "execution_count": 36,
     "metadata": {},
     "output_type": "execute_result"
    }
   ],
   "source": [
    "train[train['swl']==0]"
   ]
  },
  {
   "cell_type": "markdown",
   "id": "5481d958",
   "metadata": {},
   "source": [
    "### 팔당댐 유입량"
   ]
  },
  {
   "cell_type": "code",
   "execution_count": 38,
   "id": "fc612550",
   "metadata": {},
   "outputs": [
    {
     "data": {
      "text/plain": [
       "<AxesSubplot:xlabel='ymdhm', ylabel='inf'>"
      ]
     },
     "execution_count": 38,
     "metadata": {},
     "output_type": "execute_result"
    },
    {
     "data": {
      "image/png": "[encoded data removed]",
      "text/plain": [
       "<Figure size 864x576 with 1 Axes>"
      ]
     },
     "metadata": {
      "needs_background": "light"
     },
     "output_type": "display_data"
    }
   ],
   "source": [
    "plt.figure(figsize = (12,8))\n",
    "sns.lineplot(train['ymdhm'], train['inf'])"
   ]
  },
  {
   "cell_type": "markdown",
   "id": "46c6388b",
   "metadata": {},
   "source": [
    "### 팔당댐 저수량"
   ]
  },
  {
   "cell_type": "code",
   "execution_count": null,
   "id": "2b4378cd",
   "metadata": {},
   "outputs": [],
   "source": []
  },
  {
   "cell_type": "code",
   "execution_count": null,
   "id": "67219497",
   "metadata": {},
   "outputs": [],
   "source": []
  },
  {
   "cell_type": "code",
   "execution_count": null,
   "id": "4d54af52",
   "metadata": {},
   "outputs": [],
   "source": []
  },
  {
   "cell_type": "markdown",
   "id": "240ac7dc",
   "metadata": {},
   "source": [
    "### 팔당댐 공용량"
   ]
  },
  {
   "cell_type": "code",
   "execution_count": null,
   "id": "e4668c39",
   "metadata": {},
   "outputs": [],
   "source": []
  },
  {
   "cell_type": "code",
   "execution_count": null,
   "id": "3eca75e5",
   "metadata": {},
   "outputs": [],
   "source": []
  },
  {
   "cell_type": "markdown",
   "id": "eb41ef21",
   "metadata": {},
   "source": [
    "### 팔당댐 총 방류량"
   ]
  },
  {
   "cell_type": "code",
   "execution_count": null,
   "id": "396ee429",
   "metadata": {},
   "outputs": [],
   "source": []
  },
  {
   "cell_type": "code",
   "execution_count": null,
   "id": "e8b4d919",
   "metadata": {},
   "outputs": [],
   "source": []
  },
  {
   "cell_type": "code",
   "execution_count": null,
   "id": "cfb4f2ab",
   "metadata": {},
   "outputs": [],
   "source": []
  }
 ],
 "metadata": {
  "kernelspec": {
   "display_name": "jupyter",
   "language": "python",
   "name": "jupyter"
  },
  "language_info": {
   "codemirror_mode": {
    "name": "ipython",
    "version": 3
   },
   "file_extension": ".py",
   "mimetype": "text/x-python",
   "name": "python",
   "nbconvert_exporter": "python",
   "pygments_lexer": "ipython3",
   "version": "3.10.4"
  },
  "toc": {
   "base_numbering": 1,
   "nav_menu": {},
   "number_sections": true,
   "sideBar": true,
   "skip_h1_title": false,
   "title_cell": "Table of Contents",
   "title_sidebar": "Contents",
   "toc_cell": false,
   "toc_position": {},
   "toc_section_display": true,
   "toc_window_display": false
  }
 },
 "nbformat": 4,
 "nbformat_minor": 5
}
