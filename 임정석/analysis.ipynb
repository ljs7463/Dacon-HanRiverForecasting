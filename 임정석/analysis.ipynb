{
 "cells": [
  {
   "cell_type": "markdown",
   "id": "bdc17bc6",
   "metadata": {},
   "source": [
    "## 모듈 Import"
   ]
  },
  {
   "cell_type": "code",
   "execution_count": 1,
   "id": "35c6ebd4",
   "metadata": {},
   "outputs": [],
   "source": [
    "import os\n",
    "import sys\n",
    "from pathlib import Path\n",
    "import pandas as pd\n",
    "import numpy as np\n",
    "from glob import glob\n",
    "from scipy import interpolate\n",
    "import warnings\n",
    "import datetime\n",
    "import seaborn as sns\n",
    "warnings.filterwarnings(\"ignore\")\n",
    "sys.path.append(str(Path(os.getcwd())))"
   ]
  },
  {
   "cell_type": "markdown",
   "id": "52f3c136",
   "metadata": {},
   "source": [
    "## Path 설정"
   ]
  },
  {
   "cell_type": "code",
   "execution_count": 2,
   "id": "31f23b19",
   "metadata": {},
   "outputs": [],
   "source": [
    "base_path = Path(os.getcwd()).parent\n",
    "sys.path.append(base_path)"
   ]
  },
  {
   "cell_type": "markdown",
   "id": "51ed8f3e",
   "metadata": {},
   "source": [
    "## 데이터 로딩"
   ]
  },
  {
   "cell_type": "code",
   "execution_count": null,
   "id": "01a34852",
   "metadata": {},
   "outputs": [],
   "source": [
    "water_lst = glob(f'{base_path}/raw_data/water_data/*.csv')\n",
    "rain_lst = glob(f'{base_path}/raw_data/rf_data/*.csv')"
   ]
  },
  {
   "cell_type": "markdown",
   "id": "2034c663",
   "metadata": {},
   "source": [
    "## 데이터 병합"
   ]
  },
  {
   "cell_type": "code",
   "execution_count": 8,
   "id": "5cfb8e78",
   "metadata": {},
   "outputs": [],
   "source": [
    "water_lst = glob(f'{base_path}/raw_data/water_data/*.csv')\n",
    "rain_lst = glob(f'{base_path}/raw_data/rf_data/*.csv')\n",
    "\n",
    "water_df = pd.DataFrame()\n",
    "rain_df = pd.DataFrame()\n",
    "for w in water_lst:\n",
    "    water_df = water_df.append(pd.read_csv(w))\n",
    "for r in rain_lst:\n",
    "    rain_df = rain_df.append(pd.read_csv(r))"
   ]
  },
  {
   "cell_type": "markdown",
   "id": "d62f0948",
   "metadata": {},
   "source": [
    "## 데이터 명세"
   ]
  },
  {
   "cell_type": "code",
   "execution_count": 15,
   "id": "33745b39",
   "metadata": {},
   "outputs": [
    {
     "data": {
      "text/plain": [
       "'\\nYMDHM : 년월일시분\\nrf_10184100 : 대곡교 강수량\\nrf_10184110 : 진관교 강수량\\nrf_10184140 : 송정동 강수량\\n'"
      ]
     },
     "execution_count": 15,
     "metadata": {},
     "output_type": "execute_result"
    }
   ],
   "source": [
    "# water 데이터 컬럼 설명\n",
    "\"\"\"\n",
    "ymdhm : 년월일시분\n",
    "swl : 팔당댐 현재수위 (단위 :El.m)\n",
    "inf : 팔당댐 유입량 (단위 : m^3/s)\n",
    "swf : 팔당댐 저수량 (단위 : 만m^3)\n",
    "ecpc : 팔당댐 공용량 (단위 : 백만m^3)\n",
    "tototf: 총 방류량 (eksdnl : m^3/s)\n",
    "tide_level : 강화대교 조위 ( 단위 : cm)\n",
    "wl_1018662 : 청담대교 수위 ( 단위 : cm)\n",
    "fw_1018622 : 청담대교 유량 ( 단위 : m^3/s)\n",
    "(유량은 단위시간 당 얼마만큼의 체적에 해당하는 액체가 이동했는지 나타낼 때 쓰는 개념)\n",
    "wl_1018680 : 잠수교 수위 ( 단위 : cm)\n",
    "fw_1018680 : 잠수교 유량 ( 단위 : m^3/s)\n",
    "wl_1018683 : 한강대교 수위 ( 단위 : cm)\n",
    "fw_1018683 : 한강대교 유량 ( 단위 : m^3/s)\n",
    "wl_1019630 : 행주대교 수위 ( 단위 : cm)\n",
    "fw_1019630 : 행주대교 유량 ( 단위 : m^3/s)\n",
    "\"\"\"\n",
    "\n",
    "# RainFall 데이터 컬럼 설명\n",
    "\"\"\"\n",
    "YMDHM : 년월일시분\n",
    "rf_10184100 : 대곡교 강수량\n",
    "rf_10184110 : 진관교 강수량\n",
    "rf_10184140 : 송정동 강수량\n",
    "\"\"\""
   ]
  },
  {
   "cell_type": "markdown",
   "id": "504202ee",
   "metadata": {},
   "source": [
    "## 데이터 타입 수정"
   ]
  },
  {
   "cell_type": "code",
   "execution_count": 41,
   "id": "e9b9a834",
   "metadata": {},
   "outputs": [],
   "source": [
    "water_df['ymdhm'] = pd.to_datetime(water_df['ymdhm'], format = '%Y-%m-%d %H:%M:%S' )\n",
    "rain_df['ymdhm'] = pd.to_datetime(water_df['ymdhm'], format = '%Y-%m-%d %H:%M:%S' )"
   ]
  }
 ],
 "metadata": {
  "kernelspec": {
   "display_name": "jupyter",
   "language": "python",
   "name": "jupyter"
  },
  "language_info": {
   "codemirror_mode": {
    "name": "ipython",
    "version": 3
   },
   "file_extension": ".py",
   "mimetype": "text/x-python",
   "name": "python",
   "nbconvert_exporter": "python",
   "pygments_lexer": "ipython3",
   "version": "3.10.4"
  },
  "toc": {
   "base_numbering": 1,
   "nav_menu": {},
   "number_sections": true,
   "sideBar": true,
   "skip_h1_title": false,
   "title_cell": "Table of Contents",
   "title_sidebar": "Contents",
   "toc_cell": false,
   "toc_position": {},
   "toc_section_display": true,
   "toc_window_display": false
  }
 },
 "nbformat": 4,
 "nbformat_minor": 5
}
