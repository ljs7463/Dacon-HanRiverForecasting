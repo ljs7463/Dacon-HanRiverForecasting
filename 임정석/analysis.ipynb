{
 "cells": [
  {
   "cell_type": "code",
   "execution_count": 51,
   "id": "35c6ebd4",
   "metadata": {},
   "outputs": [],
   "source": [
    "import os\n",
    "import sys\n",
    "from pathlib import Path\n",
    "import pandas as pd\n",
    "import numpy as np\n",
    "from glob import glob\n",
    "from scipy import interpolate\n",
    "import warnings\n",
    "warnings.filterwarnings(\"ignore\")\n",
    "sys.path.append(str(Path(os.getcwd())))"
   ]
  },
  {
   "cell_type": "code",
   "execution_count": 2,
   "id": "31f23b19",
   "metadata": {},
   "outputs": [],
   "source": [
    "base_path = Path(os.getcwd()).parent\n",
    "sys.path.append(base_path)"
   ]
  },
  {
   "cell_type": "code",
   "execution_count": 13,
   "id": "e1a142c9",
   "metadata": {},
   "outputs": [],
   "source": [
    "water_df = pd.read_csv(f'{base_path}/raw_data/water_data/data_2012.csv')"
   ]
  },
  {
   "cell_type": "code",
   "execution_count": 16,
   "id": "1de925a2",
   "metadata": {},
   "outputs": [],
   "source": [
    "rain_df = pd.read_csv(f'{base_path}/raw_data/rf_data/rf_2012.csv')"
   ]
  },
  {
   "cell_type": "code",
   "execution_count": 54,
   "id": "44d89641",
   "metadata": {},
   "outputs": [
    {
     "data": {
      "text/plain": [
       "<AxesSubplot:xlabel='rf_10184140', ylabel='Density'>"
      ]
     },
     "execution_count": 54,
     "metadata": {},
     "output_type": "execute_result"
    },
    {
     "data": {
      "image/png": "[encoded data removed]",
      "text/plain": [
       "<Figure size 432x288 with 3 Axes>"
      ]
     },
     "metadata": {
      "needs_background": "light"
     },
     "output_type": "display_data"
    },
    {
     "data": {
      "text/plain": [
       "<Figure size 1080x576 with 0 Axes>"
      ]
     },
     "metadata": {},
     "output_type": "display_data"
    }
   ],
   "source": [
    "import matplotlib.pyplot as plt\n",
    "import seaborn as sns\n",
    "fig, ax = plt.subplots(3, 1)\n",
    "plt.figure(figsize = (15,8))\n",
    "sns.distplot(rain_df['rf_10184100'],ax = ax[0])\n",
    "sns.distplot(rain_df['rf_10184110'],ax = ax[1])\n",
    "sns.distplot(rain_df['rf_10184140'],ax = ax[2])"
   ]
  },
  {
   "cell_type": "code",
   "execution_count": 15,
   "id": "33745b39",
   "metadata": {},
   "outputs": [
    {
     "data": {
      "text/plain": [
       "'\\nYMDHM : 년월일시분\\nrf_10184100 : 대곡교 강수량\\nrf_10184110 : 진관교 강수량\\nrf_10184140 : 송정동 강수량\\n'"
      ]
     },
     "execution_count": 15,
     "metadata": {},
     "output_type": "execute_result"
    }
   ],
   "source": [
    "# water 데이터 컬럼 설명\n",
    "\"\"\"\n",
    "ymdhm : 년월일시분\n",
    "swl : 팔당댐 현재수위 (단위 :El.m)\n",
    "inf : 팔당댐 유입량 (단위 : m^3/s)\n",
    "swf : 팔당댐 저수량 (단위 : 만m^3)\n",
    "ecpc : 팔당댐 공용량 (단위 : 백만m^3)\n",
    "tototf: 총 방류량 (eksdnl : m^3/s)\n",
    "tide_level : 강화대교 조위 ( 단위 : cm)\n",
    "wl_1018662 : 청담대교 수위 ( 단위 : cm)\n",
    "fw_1018622 : 청담대교 유량 ( 단위 : m^3/s)\n",
    "(유량은 단위시간 당 얼마만큼의 체적에 해당하는 액체가 이동했는지 나타낼 때 쓰는 개념)\n",
    "wl_1018680 : 잠수교 수위 ( 단위 : cm)\n",
    "fw_1018680 : 잠수교 유량 ( 단위 : m^3/s)\n",
    "wl_1018683 : 한강대교 수위 ( 단위 : cm)\n",
    "fw_1018683 : 한강대교 유량 ( 단위 : m^3/s)\n",
    "wl_1019630 : 행주대교 수위 ( 단위 : cm)\n",
    "fw_1019630 : 행주대교 유량 ( 단위 : m^3/s)\n",
    "\"\"\"\n",
    "\n",
    "# RainFall 데이터 컬럼 설명\n",
    "\"\"\"\n",
    "YMDHM : 년월일시분\n",
    "rf_10184100 : 대곡교 강수량\n",
    "rf_10184110 : 진관교 강수량\n",
    "rf_10184140 : 송정동 강수량\n",
    "\"\"\""
   ]
  }
 ],
 "metadata": {
  "kernelspec": {
   "display_name": "jupyter",
   "language": "python",
   "name": "jupyter"
  },
  "language_info": {
   "codemirror_mode": {
    "name": "ipython",
    "version": 3
   },
   "file_extension": ".py",
   "mimetype": "text/x-python",
   "name": "python",
   "nbconvert_exporter": "python",
   "pygments_lexer": "ipython3",
   "version": "3.10.4"
  },
  "toc": {
   "base_numbering": 1,
   "nav_menu": {},
   "number_sections": true,
   "sideBar": true,
   "skip_h1_title": false,
   "title_cell": "Table of Contents",
   "title_sidebar": "Contents",
   "toc_cell": false,
   "toc_position": {},
   "toc_section_display": true,
   "toc_window_display": false
  }
 },
 "nbformat": 4,
 "nbformat_minor": 5
}
