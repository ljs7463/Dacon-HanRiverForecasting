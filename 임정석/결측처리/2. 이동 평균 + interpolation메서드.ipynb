{
 "cells": [
  {
   "cell_type": "markdown",
   "id": "7ccef542",
   "metadata": {},
   "source": [
    "# 모듈 import"
   ]
  },
  {
   "cell_type": "code",
   "execution_count": 1,
   "id": "03953079",
   "metadata": {},
   "outputs": [],
   "source": [
    "import os\n",
    "import sys\n",
    "from pathlib import Path\n",
    "import pandas as pd\n",
    "import numpy as np\n",
    "from glob import glob\n",
    "from scipy import interpolate\n",
    "import warnings\n",
    "import datetime\n",
    "import seaborn as sns\n",
    "import matplotlib.pyplot as plt\n",
    "from statsmodels.tsa.seasonal import seasonal_decompose \n",
    "from sklearn.preprocessing import StandardScaler\n",
    "from sklearn import neighbors\n",
    "from sklearn.metrics import mean_squared_error \n",
    "from math import sqrt\n",
    "from statsmodels.tsa.seasonal import seasonal_decompose \n",
    "warnings.filterwarnings(\"ignore\")\n",
    "sys.path.append(str(Path(os.getcwd())))"
   ]
  },
  {
   "cell_type": "markdown",
   "id": "2938b97f",
   "metadata": {},
   "source": [
    "# Path 설정"
   ]
  },
  {
   "cell_type": "code",
   "execution_count": 2,
   "id": "96ec48b9",
   "metadata": {},
   "outputs": [],
   "source": [
    "base_path = Path(os.getcwd()).parent.parent\n",
    "sys.path.append(base_path)"
   ]
  },
  {
   "cell_type": "code",
   "execution_count": 3,
   "id": "572c1184",
   "metadata": {},
   "outputs": [],
   "source": [
    "water_lst = glob(f'{base_path}/datasource/competition_data/water_data/*.csv')\n",
    "rain_lst = glob(f'{base_path}/datasource/competition_data/rf_data/*.csv')\n",
    "\n",
    "water_df = pd.DataFrame()\n",
    "rain_df = pd.DataFrame()\n",
    "for w in water_lst:\n",
    "    water_df = water_df.append(pd.read_csv(w))\n",
    "for r in rain_lst:\n",
    "    rain_df = rain_df.append(pd.read_csv(r))"
   ]
  },
  {
   "cell_type": "markdown",
   "id": "a385ea88",
   "metadata": {},
   "source": [
    "# 타입 수정 및 데이터 추가 병합(water + rain)"
   ]
  },
  {
   "cell_type": "code",
   "execution_count": 4,
   "id": "27e4e852",
   "metadata": {},
   "outputs": [],
   "source": [
    "# datetime\n",
    "water_df['ymdhm'] = pd.to_datetime(water_df['ymdhm'], format = '%Y-%m-%d %H:%M:%S' )\n",
    "rain_df['ymdhm'] = pd.to_datetime(water_df['ymdhm'], format = '%Y-%m-%d %H:%M:%S' )\n",
    "\n",
    "# merge to dataframe\n",
    "merge_df = pd.merge(water_df, rain_df, how = 'left', on = 'ymdhm')"
   ]
  },
  {
   "cell_type": "markdown",
   "id": "f6150151",
   "metadata": {},
   "source": [
    "# 컬럼 수정"
   ]
  },
  {
   "cell_type": "code",
   "execution_count": 5,
   "id": "b5e725d6",
   "metadata": {},
   "outputs": [],
   "source": [
    "new_cols ={'ymdhm':\"date\",\n",
    "           'swl':'팔당댐 현재수위',\n",
    "           'inf':'팔당댐 유입량',\n",
    "           'sfw':'팔당댐 저수량',\n",
    "           'ecpc':'팔당댐 공용량',\n",
    "           'tototf':'총 방류량',\n",
    "           'tide_level':\"강화대교 조위\",\n",
    "           'fw_1018662':'청담대교 유량',\n",
    "           'fw_1018680':'잠수교 유량',\n",
    "           'fw_1018683':'한강대교 유량',\n",
    "           'fw_1019630':'행주대교 유량',\n",
    "           'wl_1018662':'청담대교 수위',    \n",
    "           'wl_1018680':'잠수교 수위',\n",
    "           'wl_1018683':\"한강대교 수위\",\n",
    "           'wl_1019630':\"행주대교 수위\",\n",
    "           'rf_10184100':'대곡교 강수량',\n",
    "           'rf_10184110':'진관교 강수량',\n",
    "           'rf_10184140':'송정동 강수량'}\n",
    "merge_df =merge_df.rename(columns = new_cols)"
   ]
  },
  {
   "cell_type": "markdown",
   "id": "5b1d8e97",
   "metadata": {},
   "source": [
    "# 데이터 분리"
   ]
  },
  {
   "cell_type": "code",
   "execution_count": 6,
   "id": "f04d3cb5",
   "metadata": {},
   "outputs": [],
   "source": [
    "# test set: 2022 06 01 ~\n",
    "train = merge_df[-((merge_df['date'].dt.year==2022) & (merge_df['date'].dt.month>=6))].reset_index(drop =True)\n",
    "test = merge_df[((merge_df['date'].dt.year==2022) & (merge_df['date'].dt.month>=6))].reset_index(drop =True)"
   ]
  },
  {
   "cell_type": "markdown",
   "id": "587ed385",
   "metadata": {},
   "source": [
    "# 기본 전처리"
   ]
  },
  {
   "cell_type": "code",
   "execution_count": 7,
   "id": "f768ca5b",
   "metadata": {},
   "outputs": [],
   "source": [
    "# 0이하의 값 일괄 nan값으로 변경\n",
    "\n",
    "# 학습 및 검증셋\n",
    "for i in list(train.columns[1:6]):\n",
    "    error_lst = list(train[train[i]<=0][i].index)\n",
    "    train.loc[error_lst, i] = np.nan\n",
    "    \n",
    "# 최종 예측을 위한 테스트셋    \n",
    "for i in list(test.columns[1:6]):\n",
    "    error_lst2 = list(test[test[i]<=0][i].index)\n",
    "    test.loc[error_lst2, i] = np.nan"
   ]
  },
  {
   "cell_type": "markdown",
   "id": "d94f3bd2",
   "metadata": {},
   "source": [
    "# Method 2. Moving Average(rolling average) + interpolate"
   ]
  },
  {
   "cell_type": "code",
   "execution_count": 8,
   "id": "3177ad32",
   "metadata": {},
   "outputs": [],
   "source": [
    "# 학습 및 검증셋\n",
    "\n",
    "# 2013년 데이터만 사용 \n",
    "df_2013 = train[(train['date'].dt.year==2013)].reset_index(drop = True)\n",
    "df_2013 = df_2013.fillna(df_2013.rolling(3, min_periods = 1, axis = 0,center = True).mean())\n",
    "df_2013 = df_2013.fillna(df_2013.rolling(6, min_periods = 1, axis = 0,center = True).mean())\n",
    "\n",
    "# 잠수교 유량데이터는 측정 센서가 없기때문에 전체 Null & 강화대교 조위 역시 필요없다고 판단\n",
    "train_df =df_2013.drop(columns = ['잠수교 유량','강화대교 조위'])\n",
    "\n",
    "\n",
    "# 테스트 셋 역시 잠수교 유량과 강화대교 조위 컬럼의 제거\n",
    "test = test.drop(columns = ['잠수교 유량','강화대교 조위'])\n",
    "test = test.fillna(test.rolling(3, min_periods = 1, axis = 0, center = True).mean())\n",
    "test = test.fillna(test.rolling(6, min_periods = 1, axis = 0, center = True).mean())\n",
    "test = test.set_index('date').interpolate(method = 'time').reset_index()"
   ]
  },
  {
   "cell_type": "markdown",
   "id": "93e960f2",
   "metadata": {},
   "source": [
    "# 데이터 split"
   ]
  },
  {
   "cell_type": "code",
   "execution_count": 12,
   "id": "f2b92460",
   "metadata": {},
   "outputs": [],
   "source": [
    "from sklearn.model_selection import train_test_split\n",
    "# 학습 및 검증셋\n",
    "x_data = train_df[['팔당댐 현재수위', '팔당댐 유입량', '팔당댐 저수량', '팔당댐 공용량', '총 방류량', '청담대교 유량','한강대교 유량', '행주대교 유량', '대곡교 강수량','진관교 강수량','송정동 강수량']]\n",
    "y_data =train_df[['청담대교 수위','잠수교 수위', '한강대교 수위', '행주대교 수위']]\n",
    "x_train = x_data.iloc[:-5000]\n",
    "x_valid = x_data.iloc[-5000:]\n",
    "y_train = y_data.iloc[:-5000]\n",
    "y_valid = y_data.iloc[-5000:]\n",
    "\n",
    "\n",
    "# 최종 예측을 위한 테스트 셋\n",
    "x_test = test[['팔당댐 현재수위', '팔당댐 유입량', '팔당댐 저수량', '팔당댐 공용량', '총 방류량', '청담대교 유량','한강대교 유량', '행주대교 유량', '대곡교 강수량','진관교 강수량','송정동 강수량']]\n",
    "y_test = test[['청담대교 수위','잠수교 수위', '한강대교 수위', '행주대교 수위']]"
   ]
  },
  {
   "cell_type": "code",
   "execution_count": 15,
   "id": "ae898dfc",
   "metadata": {},
   "outputs": [
    {
     "data": {
      "text/plain": [
       "((21496, 11), (5000, 11), (21496, 4), (5000, 4))"
      ]
     },
     "execution_count": 15,
     "metadata": {},
     "output_type": "execute_result"
    }
   ],
   "source": [
    "x_train.shape, x_valid.shape, y_train.shape, y_valid.shape"
   ]
  },
  {
   "cell_type": "markdown",
   "id": "032a15c1",
   "metadata": {},
   "source": [
    "# Scalling"
   ]
  },
  {
   "cell_type": "code",
   "execution_count": 48,
   "id": "7bd0a5fb",
   "metadata": {},
   "outputs": [],
   "source": [
    "from sklearn.preprocessing import StandardScaler\n",
    "scaler = StandardScaler()\n",
    "x_train_scaler = pd.DataFrame(scaler.fit_transform(x_train), columns = x_train.columns)\n",
    "x_valid_scaler = pd.DataFrame(scaler.transform(x_valid), columns = x_valid.columns)\n",
    "x_test_scaler = pd.DataFrame(scaler.transform(x_test), columns = x_test.columns)"
   ]
  },
  {
   "cell_type": "markdown",
   "id": "c29a620c",
   "metadata": {},
   "source": [
    "이후 간단한 설명\n",
    "1. 바로 위의 x_train,y_train을 학습하셔서 x_valid를 통해서 y예측값을 뽑습니다.\n",
    "2. y의 예측값과 y_valid값의 차이를 RMSE를 통해 확인합니다. --> 성능확인( 검증셋 y_test를 통해 성능검증)\n",
    "3. 성능이 잘 나왔다면 해당 모델을 통해 x_test_scaler데이터를 넣어서 예측값 y_pred를 뽑은후 제출"
   ]
  }
 ],
 "metadata": {
  "kernelspec": {
   "display_name": "tensorflow_gpu",
   "language": "python",
   "name": "tensorflow_gpu"
  },
  "language_info": {
   "codemirror_mode": {
    "name": "ipython",
    "version": 3
   },
   "file_extension": ".py",
   "mimetype": "text/x-python",
   "name": "python",
   "nbconvert_exporter": "python",
   "pygments_lexer": "ipython3",
   "version": "3.7.11"
  },
  "toc": {
   "base_numbering": 1,
   "nav_menu": {},
   "number_sections": true,
   "sideBar": true,
   "skip_h1_title": false,
   "title_cell": "Table of Contents",
   "title_sidebar": "Contents",
   "toc_cell": false,
   "toc_position": {},
   "toc_section_display": true,
   "toc_window_display": false
  }
 },
 "nbformat": 4,
 "nbformat_minor": 5
}
